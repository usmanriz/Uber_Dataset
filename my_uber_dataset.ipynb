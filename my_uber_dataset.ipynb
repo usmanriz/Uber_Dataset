{
 "cells": [
  {
   "cell_type": "markdown",
   "metadata": {},
   "source": [
    "\n",
    "<h1 style =  \"background-color: black ; color: white; text-align: center; text-shadow: 2.5px 2px; border-radius: 8px; font-family:Times New Roman, Times, serif; padding: 25px\" > UBER DATA ANALYSIS </h1><p>Author: Muhammad Usman </p> Dated: 06/Jan/23"
   ]
  },
  {
   "cell_type": "markdown",
   "metadata": {},
   "source": [
    "\n",
    "<b> Dataset Overview:</b>\n",
    "\n",
    "The dataset, focusing on Uber drives, was explored and analyzed for better understanding.\n",
    "\n",
    "<strong>Data Cleaning:</strong>\n",
    "\n",
    "Imported necessary libraries for data manipulation and visualization.<br>\n",
    "Established alternative color codes for visualizations.<br>\n",
    "Loaded the dataset using the Pandas library and created a cleaned version.<br>\n",
    "Handled special characters, missing values, and duplicates.<br>\n",
    "Split and formatted date columns for better analysis.<br>\n",
    "\n",
    "<b>Data Analysis:</b>\n",
    "\n",
    "Explored the dataset through various methods:<br>\n",
    "Checked the number of rows and columns.<br>\n",
    "Obtained a concise summary of the dataset.<br>\n",
    "Calculated statistics, checked for missing values, and explored unique values.<br>\n",
    "Investigated combinations of start-stop locations, purposes, and categories.<br>\n",
    "Identified duplicates and cleaned the dataset accordingly.<br>\n",
    "\n",
    "<b>Data Visualization:</b>\n",
    "\n",
    "Visualized key aspects of the data to derive insights:<br>\n",
    "Explored ride categories, trip purposes, and day-wise trip counts.<br>\n",
    "Analyzed the number of trips per month and day of the week.<br>\n",
    "Identified the top start and stop locations.<br>\n",
    "Investigated round-trip versus single-trip distribution.<br>\n",
    "Examined the distribution of trip durations and miles per category.<br>"
   ]
  },
  {
   "cell_type": "markdown",
   "metadata": {},
   "source": [
    "<h2 style = \"background-color: grey; color: white; text-shadow:1.5px 1.5px; border-radius: 20px; text-align: center; font-family:Times New Roman, Times, serif; padding: 20px; display: inline-block\" > Data Analyzing on Uber Drives</h2>"
   ]
  },
  {
   "cell_type": "markdown",
   "metadata": {},
   "source": [
    "* <b>Import Libraries</b>"
   ]
  },
  {
   "cell_type": "code",
   "execution_count": 45,
   "metadata": {},
   "outputs": [],
   "source": [
    "# This Python 3 environment comes with many helpful analytics libraries installed\n",
    "\n",
    "# Import libraries for data manuplication\n",
    "import pandas as pd\n",
    "import numpy as numpy\n",
    "\n",
    "# import libraries for data visulization\n",
    "import matplotlib.pyplot as plt\n",
    "import seaborn as sns\n",
    "\n",
    "# Warning ignore\n",
    "import warnings\n",
    "warnings.filterwarnings(\"ignore\") "
   ]
  },
  {
   "cell_type": "markdown",
   "metadata": {},
   "source": [
    "* <b>Selection of color for data~visulization</b>"
   ]
  },
  {
   "cell_type": "code",
   "execution_count": 46,
   "metadata": {},
   "outputs": [
    {
     "data": {
      "text/html": [
       "<svg  width=\"495\" height=\"55\"><rect x=\"0\" y=\"0\" width=\"55\" height=\"55\" style=\"fill:#1f78b4;stroke-width:2;stroke:rgb(255,255,255)\"/><rect x=\"55\" y=\"0\" width=\"55\" height=\"55\" style=\"fill:#248292;stroke-width:2;stroke:rgb(255,255,255)\"/><rect x=\"110\" y=\"0\" width=\"55\" height=\"55\" style=\"fill:#298c70;stroke-width:2;stroke:rgb(255,255,255)\"/><rect x=\"165\" y=\"0\" width=\"55\" height=\"55\" style=\"fill:#2e964e;stroke-width:2;stroke:rgb(255,255,255)\"/><rect x=\"220\" y=\"0\" width=\"55\" height=\"55\" style=\"fill:#339f2c;stroke-width:2;stroke:rgb(255,255,255)\"/><rect x=\"275\" y=\"0\" width=\"55\" height=\"55\" style=\"fill:#267721;stroke-width:2;stroke:rgb(255,255,255)\"/><rect x=\"330\" y=\"0\" width=\"55\" height=\"55\" style=\"fill:#194f16;stroke-width:2;stroke:rgb(255,255,255)\"/><rect x=\"385\" y=\"0\" width=\"55\" height=\"55\" style=\"fill:#0c270b;stroke-width:2;stroke:rgb(255,255,255)\"/><rect x=\"440\" y=\"0\" width=\"55\" height=\"55\" style=\"fill:#000000;stroke-width:2;stroke:rgb(255,255,255)\"/></svg>"
      ],
      "text/plain": [
       "[(0.12156862745098039, 0.47058823529411764, 0.7058823529411765),\n",
       " (0.14125336409073433, 0.5099577085736255, 0.5720261437908497),\n",
       " (0.16093810073048828, 0.5493271818531333, 0.4381699346405229),\n",
       " (0.1806228373702422, 0.5886966551326412, 0.30431372549019603),\n",
       " (0.1992156862745098, 0.6249903883121876, 0.17187235678585158),\n",
       " (0.14901960784313728, 0.4675124951941561, 0.12856593617839293),\n",
       " (0.09882352941176471, 0.3100346020761246, 0.08525951557093425),\n",
       " (0.04862745098039217, 0.15255670895809303, 0.0419530949634756),\n",
       " (0.0, 0.0, 0.0)]"
      ]
     },
     "execution_count": 46,
     "metadata": {},
     "output_type": "execute_result"
    }
   ],
   "source": [
    "# Alternative color codes\n",
    "\n",
    "#1F78B4 (blue)\n",
    "#33A02C (green)\n",
    "#FF7F00 (orange)\n",
    "\n",
    "# Creating a Seaborn color palette with two colors (blue and green)\n",
    "mck_color2_alternative = sns.color_palette(['#1F78B4', '#33A02C'])\n",
    "\n",
    "# Creating a blended Seaborn color palette with 9 colors (blue to green gradient)\n",
    "mck_color_alternative = sns.blend_palette(['#1F78B4', '#33A02C', 'black'], 9)\n",
    "\n",
    "# Creating a blended Seaborn color palette with 12 colors (blue to green gradient)\n",
    "mck_color12_alternative = sns.blend_palette(['#1F78B4', '#33A02C', 'black'], 12)\n",
    "\n",
    "# Creating a blended Seaborn color palette with 25 colors (purple to blue to green gradient)\n",
    "mck_color25_alternative = sns.blend_palette(['#6A0572', '#1F78B4', '#33A02C', 'black'], 25)\n",
    "\n",
    "# Setting the Seaborn color palette to 'Blues'\n",
    "sns.color_palette('Blues')\n",
    "\n",
    "# Setting the Seaborn color palette to mck_color_alternative\n",
    "sns.color_palette(mck_color_alternative)\n"
   ]
  },
  {
   "cell_type": "markdown",
   "metadata": {},
   "source": [
    "* <b> Load dataset using Pandas Library"
   ]
  },
  {
   "cell_type": "code",
   "execution_count": 47,
   "metadata": {},
   "outputs": [
    {
     "data": {
      "text/html": [
       "<div>\n",
       "<style scoped>\n",
       "    .dataframe tbody tr th:only-of-type {\n",
       "        vertical-align: middle;\n",
       "    }\n",
       "\n",
       "    .dataframe tbody tr th {\n",
       "        vertical-align: top;\n",
       "    }\n",
       "\n",
       "    .dataframe thead th {\n",
       "        text-align: right;\n",
       "    }\n",
       "</style>\n",
       "<table border=\"1\" class=\"dataframe\">\n",
       "  <thead>\n",
       "    <tr style=\"text-align: right;\">\n",
       "      <th></th>\n",
       "      <th>START_DATE*</th>\n",
       "      <th>END_DATE*</th>\n",
       "      <th>CATEGORY*</th>\n",
       "      <th>START*</th>\n",
       "      <th>STOP*</th>\n",
       "      <th>MILES*</th>\n",
       "      <th>PURPOSE*</th>\n",
       "    </tr>\n",
       "  </thead>\n",
       "  <tbody>\n",
       "    <tr>\n",
       "      <th>0</th>\n",
       "      <td>01/01/2016 21:11</td>\n",
       "      <td>01/01/2016 21:17</td>\n",
       "      <td>Business</td>\n",
       "      <td>Fort Pierce</td>\n",
       "      <td>Fort Pierce</td>\n",
       "      <td>5.1</td>\n",
       "      <td>Meal/Entertain</td>\n",
       "    </tr>\n",
       "    <tr>\n",
       "      <th>1</th>\n",
       "      <td>01/02/2016 1:25</td>\n",
       "      <td>01/02/2016 1:37</td>\n",
       "      <td>Business</td>\n",
       "      <td>Fort Pierce</td>\n",
       "      <td>Fort Pierce</td>\n",
       "      <td>5.0</td>\n",
       "      <td>NaN</td>\n",
       "    </tr>\n",
       "    <tr>\n",
       "      <th>2</th>\n",
       "      <td>01/02/2016 20:25</td>\n",
       "      <td>01/02/2016 20:38</td>\n",
       "      <td>Business</td>\n",
       "      <td>Fort Pierce</td>\n",
       "      <td>Fort Pierce</td>\n",
       "      <td>4.8</td>\n",
       "      <td>Errand/Supplies</td>\n",
       "    </tr>\n",
       "    <tr>\n",
       "      <th>3</th>\n",
       "      <td>01/05/2016 17:31</td>\n",
       "      <td>01/05/2016 17:45</td>\n",
       "      <td>Business</td>\n",
       "      <td>Fort Pierce</td>\n",
       "      <td>Fort Pierce</td>\n",
       "      <td>4.7</td>\n",
       "      <td>Meeting</td>\n",
       "    </tr>\n",
       "    <tr>\n",
       "      <th>4</th>\n",
       "      <td>01/06/2016 14:42</td>\n",
       "      <td>01/06/2016 15:49</td>\n",
       "      <td>Business</td>\n",
       "      <td>Fort Pierce</td>\n",
       "      <td>West Palm Beach</td>\n",
       "      <td>63.7</td>\n",
       "      <td>Customer Visit</td>\n",
       "    </tr>\n",
       "    <tr>\n",
       "      <th>...</th>\n",
       "      <td>...</td>\n",
       "      <td>...</td>\n",
       "      <td>...</td>\n",
       "      <td>...</td>\n",
       "      <td>...</td>\n",
       "      <td>...</td>\n",
       "      <td>...</td>\n",
       "    </tr>\n",
       "    <tr>\n",
       "      <th>1150</th>\n",
       "      <td>12/31/2016 1:07</td>\n",
       "      <td>12/31/2016 1:14</td>\n",
       "      <td>Business</td>\n",
       "      <td>Kar?chi</td>\n",
       "      <td>Kar?chi</td>\n",
       "      <td>0.7</td>\n",
       "      <td>Meeting</td>\n",
       "    </tr>\n",
       "    <tr>\n",
       "      <th>1151</th>\n",
       "      <td>12/31/2016 13:24</td>\n",
       "      <td>12/31/2016 13:42</td>\n",
       "      <td>Business</td>\n",
       "      <td>Kar?chi</td>\n",
       "      <td>Unknown Location</td>\n",
       "      <td>3.9</td>\n",
       "      <td>Temporary Site</td>\n",
       "    </tr>\n",
       "    <tr>\n",
       "      <th>1152</th>\n",
       "      <td>12/31/2016 15:03</td>\n",
       "      <td>12/31/2016 15:38</td>\n",
       "      <td>Business</td>\n",
       "      <td>Unknown Location</td>\n",
       "      <td>Unknown Location</td>\n",
       "      <td>16.2</td>\n",
       "      <td>Meeting</td>\n",
       "    </tr>\n",
       "    <tr>\n",
       "      <th>1153</th>\n",
       "      <td>12/31/2016 21:32</td>\n",
       "      <td>12/31/2016 21:50</td>\n",
       "      <td>Business</td>\n",
       "      <td>Katunayake</td>\n",
       "      <td>Gampaha</td>\n",
       "      <td>6.4</td>\n",
       "      <td>Temporary Site</td>\n",
       "    </tr>\n",
       "    <tr>\n",
       "      <th>1154</th>\n",
       "      <td>12/31/2016 22:08</td>\n",
       "      <td>12/31/2016 23:51</td>\n",
       "      <td>Business</td>\n",
       "      <td>Gampaha</td>\n",
       "      <td>Ilukwatta</td>\n",
       "      <td>48.2</td>\n",
       "      <td>Temporary Site</td>\n",
       "    </tr>\n",
       "  </tbody>\n",
       "</table>\n",
       "<p>1155 rows × 7 columns</p>\n",
       "</div>"
      ],
      "text/plain": [
       "           START_DATE*         END_DATE* CATEGORY*            START*  \\\n",
       "0     01/01/2016 21:11  01/01/2016 21:17  Business       Fort Pierce   \n",
       "1      01/02/2016 1:25   01/02/2016 1:37  Business       Fort Pierce   \n",
       "2     01/02/2016 20:25  01/02/2016 20:38  Business       Fort Pierce   \n",
       "3     01/05/2016 17:31  01/05/2016 17:45  Business       Fort Pierce   \n",
       "4     01/06/2016 14:42  01/06/2016 15:49  Business       Fort Pierce   \n",
       "...                ...               ...       ...               ...   \n",
       "1150   12/31/2016 1:07   12/31/2016 1:14  Business           Kar?chi   \n",
       "1151  12/31/2016 13:24  12/31/2016 13:42  Business           Kar?chi   \n",
       "1152  12/31/2016 15:03  12/31/2016 15:38  Business  Unknown Location   \n",
       "1153  12/31/2016 21:32  12/31/2016 21:50  Business        Katunayake   \n",
       "1154  12/31/2016 22:08  12/31/2016 23:51  Business           Gampaha   \n",
       "\n",
       "                 STOP*  MILES*         PURPOSE*  \n",
       "0          Fort Pierce     5.1   Meal/Entertain  \n",
       "1          Fort Pierce     5.0              NaN  \n",
       "2          Fort Pierce     4.8  Errand/Supplies  \n",
       "3          Fort Pierce     4.7          Meeting  \n",
       "4      West Palm Beach    63.7   Customer Visit  \n",
       "...                ...     ...              ...  \n",
       "1150           Kar?chi     0.7          Meeting  \n",
       "1151  Unknown Location     3.9   Temporary Site  \n",
       "1152  Unknown Location    16.2          Meeting  \n",
       "1153           Gampaha     6.4   Temporary Site  \n",
       "1154         Ilukwatta    48.2   Temporary Site  \n",
       "\n",
       "[1155 rows x 7 columns]"
      ]
     },
     "execution_count": 47,
     "metadata": {},
     "output_type": "execute_result"
    }
   ],
   "source": [
    "original_df = pd.read_csv(\"Uber_Drives_2016.csv\")\n",
    "original_df"
   ]
  },
  {
   "cell_type": "markdown",
   "metadata": {},
   "source": [
    "* <b> To keep both the original dataset and the cleaned dataset separately, you can create a new variable to hold the cleaned version while preserving the original dataset."
   ]
  },
  {
   "cell_type": "code",
   "execution_count": 48,
   "metadata": {},
   "outputs": [],
   "source": [
    "cleaned_df = original_df.copy()"
   ]
  },
  {
   "cell_type": "markdown",
   "metadata": {},
   "source": [
    "<h2 style = \"background-color: grey; color: white; text-shadow:1.5px 1.5px; border-radius: 20px; text-align: center; font-family:Times New Roman, Times, serif; padding: 20px; display: inline-block\" > Quick look inside a dataset</h2>"
   ]
  },
  {
   "cell_type": "markdown",
   "metadata": {},
   "source": [
    "* <b>To view the first five rows of dataset for exploration or analysis</b>"
   ]
  },
  {
   "cell_type": "code",
   "execution_count": 49,
   "metadata": {},
   "outputs": [
    {
     "data": {
      "text/html": [
       "<div>\n",
       "<style scoped>\n",
       "    .dataframe tbody tr th:only-of-type {\n",
       "        vertical-align: middle;\n",
       "    }\n",
       "\n",
       "    .dataframe tbody tr th {\n",
       "        vertical-align: top;\n",
       "    }\n",
       "\n",
       "    .dataframe thead th {\n",
       "        text-align: right;\n",
       "    }\n",
       "</style>\n",
       "<table border=\"1\" class=\"dataframe\">\n",
       "  <thead>\n",
       "    <tr style=\"text-align: right;\">\n",
       "      <th></th>\n",
       "      <th>START_DATE*</th>\n",
       "      <th>END_DATE*</th>\n",
       "      <th>CATEGORY*</th>\n",
       "      <th>START*</th>\n",
       "      <th>STOP*</th>\n",
       "      <th>MILES*</th>\n",
       "      <th>PURPOSE*</th>\n",
       "    </tr>\n",
       "  </thead>\n",
       "  <tbody>\n",
       "    <tr>\n",
       "      <th>0</th>\n",
       "      <td>01/01/2016 21:11</td>\n",
       "      <td>01/01/2016 21:17</td>\n",
       "      <td>Business</td>\n",
       "      <td>Fort Pierce</td>\n",
       "      <td>Fort Pierce</td>\n",
       "      <td>5.1</td>\n",
       "      <td>Meal/Entertain</td>\n",
       "    </tr>\n",
       "    <tr>\n",
       "      <th>1</th>\n",
       "      <td>01/02/2016 1:25</td>\n",
       "      <td>01/02/2016 1:37</td>\n",
       "      <td>Business</td>\n",
       "      <td>Fort Pierce</td>\n",
       "      <td>Fort Pierce</td>\n",
       "      <td>5.0</td>\n",
       "      <td>NaN</td>\n",
       "    </tr>\n",
       "    <tr>\n",
       "      <th>2</th>\n",
       "      <td>01/02/2016 20:25</td>\n",
       "      <td>01/02/2016 20:38</td>\n",
       "      <td>Business</td>\n",
       "      <td>Fort Pierce</td>\n",
       "      <td>Fort Pierce</td>\n",
       "      <td>4.8</td>\n",
       "      <td>Errand/Supplies</td>\n",
       "    </tr>\n",
       "    <tr>\n",
       "      <th>3</th>\n",
       "      <td>01/05/2016 17:31</td>\n",
       "      <td>01/05/2016 17:45</td>\n",
       "      <td>Business</td>\n",
       "      <td>Fort Pierce</td>\n",
       "      <td>Fort Pierce</td>\n",
       "      <td>4.7</td>\n",
       "      <td>Meeting</td>\n",
       "    </tr>\n",
       "    <tr>\n",
       "      <th>4</th>\n",
       "      <td>01/06/2016 14:42</td>\n",
       "      <td>01/06/2016 15:49</td>\n",
       "      <td>Business</td>\n",
       "      <td>Fort Pierce</td>\n",
       "      <td>West Palm Beach</td>\n",
       "      <td>63.7</td>\n",
       "      <td>Customer Visit</td>\n",
       "    </tr>\n",
       "  </tbody>\n",
       "</table>\n",
       "</div>"
      ],
      "text/plain": [
       "        START_DATE*         END_DATE* CATEGORY*       START*            STOP*  \\\n",
       "0  01/01/2016 21:11  01/01/2016 21:17  Business  Fort Pierce      Fort Pierce   \n",
       "1   01/02/2016 1:25   01/02/2016 1:37  Business  Fort Pierce      Fort Pierce   \n",
       "2  01/02/2016 20:25  01/02/2016 20:38  Business  Fort Pierce      Fort Pierce   \n",
       "3  01/05/2016 17:31  01/05/2016 17:45  Business  Fort Pierce      Fort Pierce   \n",
       "4  01/06/2016 14:42  01/06/2016 15:49  Business  Fort Pierce  West Palm Beach   \n",
       "\n",
       "   MILES*         PURPOSE*  \n",
       "0     5.1   Meal/Entertain  \n",
       "1     5.0              NaN  \n",
       "2     4.8  Errand/Supplies  \n",
       "3     4.7          Meeting  \n",
       "4    63.7   Customer Visit  "
      ]
     },
     "execution_count": 49,
     "metadata": {},
     "output_type": "execute_result"
    }
   ],
   "source": [
    "original_df.head()"
   ]
  },
  {
   "cell_type": "markdown",
   "metadata": {},
   "source": [
    "* <b>To view the last five rows of dataset for exploration or analysis</b>"
   ]
  },
  {
   "cell_type": "code",
   "execution_count": 50,
   "metadata": {},
   "outputs": [
    {
     "data": {
      "text/html": [
       "<div>\n",
       "<style scoped>\n",
       "    .dataframe tbody tr th:only-of-type {\n",
       "        vertical-align: middle;\n",
       "    }\n",
       "\n",
       "    .dataframe tbody tr th {\n",
       "        vertical-align: top;\n",
       "    }\n",
       "\n",
       "    .dataframe thead th {\n",
       "        text-align: right;\n",
       "    }\n",
       "</style>\n",
       "<table border=\"1\" class=\"dataframe\">\n",
       "  <thead>\n",
       "    <tr style=\"text-align: right;\">\n",
       "      <th></th>\n",
       "      <th>START_DATE*</th>\n",
       "      <th>END_DATE*</th>\n",
       "      <th>CATEGORY*</th>\n",
       "      <th>START*</th>\n",
       "      <th>STOP*</th>\n",
       "      <th>MILES*</th>\n",
       "      <th>PURPOSE*</th>\n",
       "    </tr>\n",
       "  </thead>\n",
       "  <tbody>\n",
       "    <tr>\n",
       "      <th>1150</th>\n",
       "      <td>12/31/2016 1:07</td>\n",
       "      <td>12/31/2016 1:14</td>\n",
       "      <td>Business</td>\n",
       "      <td>Kar?chi</td>\n",
       "      <td>Kar?chi</td>\n",
       "      <td>0.7</td>\n",
       "      <td>Meeting</td>\n",
       "    </tr>\n",
       "    <tr>\n",
       "      <th>1151</th>\n",
       "      <td>12/31/2016 13:24</td>\n",
       "      <td>12/31/2016 13:42</td>\n",
       "      <td>Business</td>\n",
       "      <td>Kar?chi</td>\n",
       "      <td>Unknown Location</td>\n",
       "      <td>3.9</td>\n",
       "      <td>Temporary Site</td>\n",
       "    </tr>\n",
       "    <tr>\n",
       "      <th>1152</th>\n",
       "      <td>12/31/2016 15:03</td>\n",
       "      <td>12/31/2016 15:38</td>\n",
       "      <td>Business</td>\n",
       "      <td>Unknown Location</td>\n",
       "      <td>Unknown Location</td>\n",
       "      <td>16.2</td>\n",
       "      <td>Meeting</td>\n",
       "    </tr>\n",
       "    <tr>\n",
       "      <th>1153</th>\n",
       "      <td>12/31/2016 21:32</td>\n",
       "      <td>12/31/2016 21:50</td>\n",
       "      <td>Business</td>\n",
       "      <td>Katunayake</td>\n",
       "      <td>Gampaha</td>\n",
       "      <td>6.4</td>\n",
       "      <td>Temporary Site</td>\n",
       "    </tr>\n",
       "    <tr>\n",
       "      <th>1154</th>\n",
       "      <td>12/31/2016 22:08</td>\n",
       "      <td>12/31/2016 23:51</td>\n",
       "      <td>Business</td>\n",
       "      <td>Gampaha</td>\n",
       "      <td>Ilukwatta</td>\n",
       "      <td>48.2</td>\n",
       "      <td>Temporary Site</td>\n",
       "    </tr>\n",
       "  </tbody>\n",
       "</table>\n",
       "</div>"
      ],
      "text/plain": [
       "           START_DATE*         END_DATE* CATEGORY*            START*  \\\n",
       "1150   12/31/2016 1:07   12/31/2016 1:14  Business           Kar?chi   \n",
       "1151  12/31/2016 13:24  12/31/2016 13:42  Business           Kar?chi   \n",
       "1152  12/31/2016 15:03  12/31/2016 15:38  Business  Unknown Location   \n",
       "1153  12/31/2016 21:32  12/31/2016 21:50  Business        Katunayake   \n",
       "1154  12/31/2016 22:08  12/31/2016 23:51  Business           Gampaha   \n",
       "\n",
       "                 STOP*  MILES*        PURPOSE*  \n",
       "1150           Kar?chi     0.7         Meeting  \n",
       "1151  Unknown Location     3.9  Temporary Site  \n",
       "1152  Unknown Location    16.2         Meeting  \n",
       "1153           Gampaha     6.4  Temporary Site  \n",
       "1154         Ilukwatta    48.2  Temporary Site  "
      ]
     },
     "execution_count": 50,
     "metadata": {},
     "output_type": "execute_result"
    }
   ],
   "source": [
    "original_df.tail()"
   ]
  },
  {
   "cell_type": "markdown",
   "metadata": {},
   "source": [
    "* <b>To view any few rows of dataset for exploration or analysis</b>"
   ]
  },
  {
   "cell_type": "code",
   "execution_count": 51,
   "metadata": {},
   "outputs": [
    {
     "data": {
      "text/html": [
       "<div>\n",
       "<style scoped>\n",
       "    .dataframe tbody tr th:only-of-type {\n",
       "        vertical-align: middle;\n",
       "    }\n",
       "\n",
       "    .dataframe tbody tr th {\n",
       "        vertical-align: top;\n",
       "    }\n",
       "\n",
       "    .dataframe thead th {\n",
       "        text-align: right;\n",
       "    }\n",
       "</style>\n",
       "<table border=\"1\" class=\"dataframe\">\n",
       "  <thead>\n",
       "    <tr style=\"text-align: right;\">\n",
       "      <th></th>\n",
       "      <th>START_DATE*</th>\n",
       "      <th>END_DATE*</th>\n",
       "      <th>CATEGORY*</th>\n",
       "      <th>START*</th>\n",
       "      <th>STOP*</th>\n",
       "      <th>MILES*</th>\n",
       "      <th>PURPOSE*</th>\n",
       "    </tr>\n",
       "  </thead>\n",
       "  <tbody>\n",
       "    <tr>\n",
       "      <th>469</th>\n",
       "      <td>6/25/2016 10:50</td>\n",
       "      <td>6/25/2016 11:18</td>\n",
       "      <td>Business</td>\n",
       "      <td>Arabi</td>\n",
       "      <td>Metairie</td>\n",
       "      <td>17.0</td>\n",
       "      <td>Meal/Entertain</td>\n",
       "    </tr>\n",
       "    <tr>\n",
       "      <th>51</th>\n",
       "      <td>1/28/2016 15:11</td>\n",
       "      <td>1/28/2016 15:31</td>\n",
       "      <td>Business</td>\n",
       "      <td>Meredith Townes</td>\n",
       "      <td>Leesville Hollow</td>\n",
       "      <td>14.7</td>\n",
       "      <td>Meeting</td>\n",
       "    </tr>\n",
       "    <tr>\n",
       "      <th>793</th>\n",
       "      <td>10/07/2016 13:52</td>\n",
       "      <td>10/07/2016 14:08</td>\n",
       "      <td>Business</td>\n",
       "      <td>Lahore</td>\n",
       "      <td>Unknown Location</td>\n",
       "      <td>5.8</td>\n",
       "      <td>NaN</td>\n",
       "    </tr>\n",
       "    <tr>\n",
       "      <th>480</th>\n",
       "      <td>6/27/2016 9:05</td>\n",
       "      <td>6/27/2016 9:33</td>\n",
       "      <td>Business</td>\n",
       "      <td>Covington</td>\n",
       "      <td>Covington</td>\n",
       "      <td>8.6</td>\n",
       "      <td>NaN</td>\n",
       "    </tr>\n",
       "  </tbody>\n",
       "</table>\n",
       "</div>"
      ],
      "text/plain": [
       "          START_DATE*         END_DATE* CATEGORY*           START*  \\\n",
       "469   6/25/2016 10:50   6/25/2016 11:18  Business            Arabi   \n",
       "51    1/28/2016 15:11   1/28/2016 15:31  Business  Meredith Townes   \n",
       "793  10/07/2016 13:52  10/07/2016 14:08  Business           Lahore   \n",
       "480    6/27/2016 9:05    6/27/2016 9:33  Business        Covington   \n",
       "\n",
       "                STOP*  MILES*        PURPOSE*  \n",
       "469          Metairie    17.0  Meal/Entertain  \n",
       "51   Leesville Hollow    14.7         Meeting  \n",
       "793  Unknown Location     5.8             NaN  \n",
       "480         Covington     8.6             NaN  "
      ]
     },
     "execution_count": 51,
     "metadata": {},
     "output_type": "execute_result"
    }
   ],
   "source": [
    "# Display the randomly sampled row\n",
    "original_df.sample()\n",
    "\n",
    "# # Alternatively, you can sample 4 rows for a more comprehensive exploration \n",
    "original_df.sample(4)"
   ]
  },
  {
   "cell_type": "markdown",
   "metadata": {},
   "source": [
    "* <b> Checking the number of rows and columns in the original DataFrame using the shape attribute </b>\n"
   ]
  },
  {
   "cell_type": "code",
   "execution_count": 52,
   "metadata": {},
   "outputs": [
    {
     "data": {
      "text/plain": [
       "(1155, 7)"
      ]
     },
     "execution_count": 52,
     "metadata": {},
     "output_type": "execute_result"
    }
   ],
   "source": [
    "original_df.shape"
   ]
  },
  {
   "cell_type": "markdown",
   "metadata": {},
   "source": [
    "* <b>To get a concise summary of the dataset, including data types and missing values.</b>"
   ]
  },
  {
   "cell_type": "code",
   "execution_count": 53,
   "metadata": {},
   "outputs": [
    {
     "name": "stdout",
     "output_type": "stream",
     "text": [
      "<class 'pandas.core.frame.DataFrame'>\n",
      "RangeIndex: 1155 entries, 0 to 1154\n",
      "Data columns (total 7 columns):\n",
      " #   Column       Non-Null Count  Dtype  \n",
      "---  ------       --------------  -----  \n",
      " 0   START_DATE*  1155 non-null   object \n",
      " 1   END_DATE*    1155 non-null   object \n",
      " 2   CATEGORY*    1155 non-null   object \n",
      " 3   START*       1155 non-null   object \n",
      " 4   STOP*        1155 non-null   object \n",
      " 5   MILES*       1155 non-null   float64\n",
      " 6   PURPOSE*     653 non-null    object \n",
      "dtypes: float64(1), object(6)\n",
      "memory usage: 63.3+ KB\n"
     ]
    }
   ],
   "source": [
    "original_df.info()"
   ]
  },
  {
   "cell_type": "markdown",
   "metadata": {},
   "source": [
    "* <b>To generate summary statistics like mean, min, max, and quartiles for numerical columns.</b>"
   ]
  },
  {
   "cell_type": "code",
   "execution_count": 54,
   "metadata": {},
   "outputs": [
    {
     "data": {
      "text/html": [
       "<div>\n",
       "<style scoped>\n",
       "    .dataframe tbody tr th:only-of-type {\n",
       "        vertical-align: middle;\n",
       "    }\n",
       "\n",
       "    .dataframe tbody tr th {\n",
       "        vertical-align: top;\n",
       "    }\n",
       "\n",
       "    .dataframe thead th {\n",
       "        text-align: right;\n",
       "    }\n",
       "</style>\n",
       "<table border=\"1\" class=\"dataframe\">\n",
       "  <thead>\n",
       "    <tr style=\"text-align: right;\">\n",
       "      <th></th>\n",
       "      <th>MILES*</th>\n",
       "    </tr>\n",
       "  </thead>\n",
       "  <tbody>\n",
       "    <tr>\n",
       "      <th>count</th>\n",
       "      <td>1155.000000</td>\n",
       "    </tr>\n",
       "    <tr>\n",
       "      <th>mean</th>\n",
       "      <td>10.566840</td>\n",
       "    </tr>\n",
       "    <tr>\n",
       "      <th>std</th>\n",
       "      <td>21.579106</td>\n",
       "    </tr>\n",
       "    <tr>\n",
       "      <th>min</th>\n",
       "      <td>0.500000</td>\n",
       "    </tr>\n",
       "    <tr>\n",
       "      <th>25%</th>\n",
       "      <td>2.900000</td>\n",
       "    </tr>\n",
       "    <tr>\n",
       "      <th>50%</th>\n",
       "      <td>6.000000</td>\n",
       "    </tr>\n",
       "    <tr>\n",
       "      <th>75%</th>\n",
       "      <td>10.400000</td>\n",
       "    </tr>\n",
       "    <tr>\n",
       "      <th>max</th>\n",
       "      <td>310.300000</td>\n",
       "    </tr>\n",
       "  </tbody>\n",
       "</table>\n",
       "</div>"
      ],
      "text/plain": [
       "            MILES*\n",
       "count  1155.000000\n",
       "mean     10.566840\n",
       "std      21.579106\n",
       "min       0.500000\n",
       "25%       2.900000\n",
       "50%       6.000000\n",
       "75%      10.400000\n",
       "max     310.300000"
      ]
     },
     "execution_count": 54,
     "metadata": {},
     "output_type": "execute_result"
    }
   ],
   "source": [
    "original_df.describe()"
   ]
  },
  {
   "cell_type": "markdown",
   "metadata": {},
   "source": [
    "* <b>To view all columns</b>"
   ]
  },
  {
   "cell_type": "code",
   "execution_count": 55,
   "metadata": {},
   "outputs": [
    {
     "data": {
      "text/plain": [
       "Index(['START_DATE*', 'END_DATE*', 'CATEGORY*', 'START*', 'STOP*', 'MILES*',\n",
       "       'PURPOSE*'],\n",
       "      dtype='object')"
      ]
     },
     "execution_count": 55,
     "metadata": {},
     "output_type": "execute_result"
    }
   ],
   "source": [
    "original_df.columns"
   ]
  },
  {
   "cell_type": "markdown",
   "metadata": {},
   "source": [
    "* <b>To identify the number of missing values in each column.</b>"
   ]
  },
  {
   "cell_type": "code",
   "execution_count": 56,
   "metadata": {},
   "outputs": [
    {
     "name": "stdout",
     "output_type": "stream",
     "text": [
      "Sum of missing values:\n",
      "\n",
      "START_DATE*      0\n",
      "END_DATE*        0\n",
      "CATEGORY*        0\n",
      "START*           0\n",
      "STOP*            0\n",
      "MILES*           0\n",
      "PURPOSE*       502\n",
      "dtype: int64\n",
      "\n",
      "Sum of all missing(NaN) values:\n",
      "502\n"
     ]
    }
   ],
   "source": [
    "print(f\"Sum of missing values:\\n\\n{original_df.isna().sum()}\")\n",
    "print()\n",
    "print(f\"Sum of all missing(NaN) values:\\n{original_df.isna().sum().sum()}\")"
   ]
  },
  {
   "cell_type": "markdown",
   "metadata": {},
   "source": [
    "* <b>Calculating the % of nan values.. If it is above 75% above we usually assume that column is useless.. but it is all about reqirnment</b>"
   ]
  },
  {
   "cell_type": "code",
   "execution_count": 57,
   "metadata": {},
   "outputs": [
    {
     "name": "stdout",
     "output_type": "stream",
     "text": [
      "Required percentage of dataset:\n",
      "\n",
      "START_DATE*     0.000000\n",
      "END_DATE*       0.000000\n",
      "CATEGORY*       0.000000\n",
      "START*          0.000000\n",
      "STOP*           0.000000\n",
      "MILES*          0.000000\n",
      "PURPOSE*       43.463203\n",
      "dtype: float64\n"
     ]
    }
   ],
   "source": [
    "print(f\"Required percentage of dataset:\\n\\n{original_df.isna().sum()*100/len(original_df)}\")"
   ]
  },
  {
   "cell_type": "markdown",
   "metadata": {},
   "source": [
    "* <b>Count the occurrences of unique pairs of 'PURPOSE*' and 'CATEGORY*' in the original DataFrame</b>\n",
    "* <b>This provides insights into the frequency of combinations of trip purposes and categories.</b>"
   ]
  },
  {
   "cell_type": "code",
   "execution_count": 58,
   "metadata": {},
   "outputs": [
    {
     "data": {
      "text/plain": [
       "PURPOSE*         CATEGORY*\n",
       "Meeting          Business     187\n",
       "Meal/Entertain   Business     160\n",
       "Errand/Supplies  Business     128\n",
       "Customer Visit   Business     101\n",
       "Temporary Site   Business      50\n",
       "Between Offices  Business      18\n",
       "Moving           Personal       4\n",
       "Airport/Travel   Business       3\n",
       "Charity ($)      Personal       1\n",
       "Commute          Personal       1\n",
       "Name: count, dtype: int64"
      ]
     },
     "execution_count": 58,
     "metadata": {},
     "output_type": "execute_result"
    }
   ],
   "source": [
    "original_df[[\"PURPOSE*\",\"CATEGORY*\"]].value_counts()"
   ]
  },
  {
   "cell_type": "markdown",
   "metadata": {},
   "source": [
    "* <b> Similarly for \"START*\" and \"STOP*\"</b>"
   ]
  },
  {
   "cell_type": "code",
   "execution_count": 59,
   "metadata": {},
   "outputs": [
    {
     "data": {
      "text/plain": [
       "START*            STOP*           \n",
       "Unknown Location  Unknown Location    86\n",
       "Morrisville       Cary                75\n",
       "Cary              Morrisville         67\n",
       "                  Cary                53\n",
       "                  Durham              36\n",
       "                                      ..\n",
       "Houston           Galveston            1\n",
       "Heritage Pines    Whitebridge          1\n",
       "                  Edgehill Farms       1\n",
       "Hell's Kitchen    Midtown              1\n",
       "Winston Salem     Asheville            1\n",
       "Name: count, Length: 363, dtype: int64"
      ]
     },
     "execution_count": 59,
     "metadata": {},
     "output_type": "execute_result"
    }
   ],
   "source": [
    "original_df[[\"START*\",\"STOP*\"]].value_counts()"
   ]
  },
  {
   "cell_type": "markdown",
   "metadata": {},
   "source": [
    "* <b>Count unique values in each column of the DataFrame</b>"
   ]
  },
  {
   "cell_type": "code",
   "execution_count": 60,
   "metadata": {},
   "outputs": [
    {
     "data": {
      "text/plain": [
       "START_DATE*    1154\n",
       "END_DATE*      1154\n",
       "CATEGORY*         2\n",
       "START*          177\n",
       "STOP*           188\n",
       "MILES*          256\n",
       "PURPOSE*         10\n",
       "dtype: int64"
      ]
     },
     "execution_count": 60,
     "metadata": {},
     "output_type": "execute_result"
    }
   ],
   "source": [
    "original_df.nunique()"
   ]
  },
  {
   "cell_type": "markdown",
   "metadata": {},
   "source": [
    "* <b>To view duplicate rows.</b>"
   ]
  },
  {
   "cell_type": "code",
   "execution_count": 61,
   "metadata": {},
   "outputs": [
    {
     "data": {
      "text/html": [
       "<div>\n",
       "<style scoped>\n",
       "    .dataframe tbody tr th:only-of-type {\n",
       "        vertical-align: middle;\n",
       "    }\n",
       "\n",
       "    .dataframe tbody tr th {\n",
       "        vertical-align: top;\n",
       "    }\n",
       "\n",
       "    .dataframe thead th {\n",
       "        text-align: right;\n",
       "    }\n",
       "</style>\n",
       "<table border=\"1\" class=\"dataframe\">\n",
       "  <thead>\n",
       "    <tr style=\"text-align: right;\">\n",
       "      <th></th>\n",
       "      <th>START_DATE*</th>\n",
       "      <th>END_DATE*</th>\n",
       "      <th>CATEGORY*</th>\n",
       "      <th>START*</th>\n",
       "      <th>STOP*</th>\n",
       "      <th>MILES*</th>\n",
       "      <th>PURPOSE*</th>\n",
       "    </tr>\n",
       "  </thead>\n",
       "  <tbody>\n",
       "    <tr>\n",
       "      <th>492</th>\n",
       "      <td>6/28/2016 23:34</td>\n",
       "      <td>6/28/2016 23:59</td>\n",
       "      <td>Business</td>\n",
       "      <td>Durham</td>\n",
       "      <td>Cary</td>\n",
       "      <td>9.9</td>\n",
       "      <td>Meeting</td>\n",
       "    </tr>\n",
       "  </tbody>\n",
       "</table>\n",
       "</div>"
      ],
      "text/plain": [
       "         START_DATE*        END_DATE* CATEGORY*  START* STOP*  MILES* PURPOSE*\n",
       "492  6/28/2016 23:34  6/28/2016 23:59  Business  Durham  Cary     9.9  Meeting"
      ]
     },
     "execution_count": 61,
     "metadata": {},
     "output_type": "execute_result"
    }
   ],
   "source": [
    "original_df[original_df.duplicated()]"
   ]
  },
  {
   "cell_type": "markdown",
   "metadata": {},
   "source": [
    "<h2 style = \"background-color: grey; color: white; text-shadow:1.5px 1.5px; border-radius: 20px; text-align: center; font-family:Times New Roman, Times, serif; padding: 20px; display: inline-block\" > Data Cleaning</h2>"
   ]
  },
  {
   "cell_type": "markdown",
   "metadata": {},
   "source": [
    "* <b>Repalce special character from columns</b>"
   ]
  },
  {
   "cell_type": "code",
   "execution_count": 62,
   "metadata": {},
   "outputs": [],
   "source": [
    "cleaned_df.columns=cleaned_df.columns.str.replace(\"*\",\"\")"
   ]
  },
  {
   "cell_type": "markdown",
   "metadata": {},
   "source": [
    "* <b> Capatilize each word of first letter in column</b>"
   ]
  },
  {
   "cell_type": "code",
   "execution_count": 63,
   "metadata": {},
   "outputs": [
    {
     "data": {
      "text/html": [
       "<div>\n",
       "<style scoped>\n",
       "    .dataframe tbody tr th:only-of-type {\n",
       "        vertical-align: middle;\n",
       "    }\n",
       "\n",
       "    .dataframe tbody tr th {\n",
       "        vertical-align: top;\n",
       "    }\n",
       "\n",
       "    .dataframe thead th {\n",
       "        text-align: right;\n",
       "    }\n",
       "</style>\n",
       "<table border=\"1\" class=\"dataframe\">\n",
       "  <thead>\n",
       "    <tr style=\"text-align: right;\">\n",
       "      <th></th>\n",
       "      <th>Start_Date</th>\n",
       "      <th>End_Date</th>\n",
       "      <th>Category</th>\n",
       "      <th>Start</th>\n",
       "      <th>Stop</th>\n",
       "      <th>Miles</th>\n",
       "      <th>Purpose</th>\n",
       "    </tr>\n",
       "  </thead>\n",
       "  <tbody>\n",
       "    <tr>\n",
       "      <th>0</th>\n",
       "      <td>01/01/2016 21:11</td>\n",
       "      <td>01/01/2016 21:17</td>\n",
       "      <td>Business</td>\n",
       "      <td>Fort Pierce</td>\n",
       "      <td>Fort Pierce</td>\n",
       "      <td>5.1</td>\n",
       "      <td>Meal/Entertain</td>\n",
       "    </tr>\n",
       "    <tr>\n",
       "      <th>1</th>\n",
       "      <td>01/02/2016 1:25</td>\n",
       "      <td>01/02/2016 1:37</td>\n",
       "      <td>Business</td>\n",
       "      <td>Fort Pierce</td>\n",
       "      <td>Fort Pierce</td>\n",
       "      <td>5.0</td>\n",
       "      <td>NaN</td>\n",
       "    </tr>\n",
       "    <tr>\n",
       "      <th>2</th>\n",
       "      <td>01/02/2016 20:25</td>\n",
       "      <td>01/02/2016 20:38</td>\n",
       "      <td>Business</td>\n",
       "      <td>Fort Pierce</td>\n",
       "      <td>Fort Pierce</td>\n",
       "      <td>4.8</td>\n",
       "      <td>Errand/Supplies</td>\n",
       "    </tr>\n",
       "    <tr>\n",
       "      <th>3</th>\n",
       "      <td>01/05/2016 17:31</td>\n",
       "      <td>01/05/2016 17:45</td>\n",
       "      <td>Business</td>\n",
       "      <td>Fort Pierce</td>\n",
       "      <td>Fort Pierce</td>\n",
       "      <td>4.7</td>\n",
       "      <td>Meeting</td>\n",
       "    </tr>\n",
       "    <tr>\n",
       "      <th>4</th>\n",
       "      <td>01/06/2016 14:42</td>\n",
       "      <td>01/06/2016 15:49</td>\n",
       "      <td>Business</td>\n",
       "      <td>Fort Pierce</td>\n",
       "      <td>West Palm Beach</td>\n",
       "      <td>63.7</td>\n",
       "      <td>Customer Visit</td>\n",
       "    </tr>\n",
       "    <tr>\n",
       "      <th>...</th>\n",
       "      <td>...</td>\n",
       "      <td>...</td>\n",
       "      <td>...</td>\n",
       "      <td>...</td>\n",
       "      <td>...</td>\n",
       "      <td>...</td>\n",
       "      <td>...</td>\n",
       "    </tr>\n",
       "    <tr>\n",
       "      <th>1150</th>\n",
       "      <td>12/31/2016 1:07</td>\n",
       "      <td>12/31/2016 1:14</td>\n",
       "      <td>Business</td>\n",
       "      <td>Kar?chi</td>\n",
       "      <td>Kar?chi</td>\n",
       "      <td>0.7</td>\n",
       "      <td>Meeting</td>\n",
       "    </tr>\n",
       "    <tr>\n",
       "      <th>1151</th>\n",
       "      <td>12/31/2016 13:24</td>\n",
       "      <td>12/31/2016 13:42</td>\n",
       "      <td>Business</td>\n",
       "      <td>Kar?chi</td>\n",
       "      <td>Unknown Location</td>\n",
       "      <td>3.9</td>\n",
       "      <td>Temporary Site</td>\n",
       "    </tr>\n",
       "    <tr>\n",
       "      <th>1152</th>\n",
       "      <td>12/31/2016 15:03</td>\n",
       "      <td>12/31/2016 15:38</td>\n",
       "      <td>Business</td>\n",
       "      <td>Unknown Location</td>\n",
       "      <td>Unknown Location</td>\n",
       "      <td>16.2</td>\n",
       "      <td>Meeting</td>\n",
       "    </tr>\n",
       "    <tr>\n",
       "      <th>1153</th>\n",
       "      <td>12/31/2016 21:32</td>\n",
       "      <td>12/31/2016 21:50</td>\n",
       "      <td>Business</td>\n",
       "      <td>Katunayake</td>\n",
       "      <td>Gampaha</td>\n",
       "      <td>6.4</td>\n",
       "      <td>Temporary Site</td>\n",
       "    </tr>\n",
       "    <tr>\n",
       "      <th>1154</th>\n",
       "      <td>12/31/2016 22:08</td>\n",
       "      <td>12/31/2016 23:51</td>\n",
       "      <td>Business</td>\n",
       "      <td>Gampaha</td>\n",
       "      <td>Ilukwatta</td>\n",
       "      <td>48.2</td>\n",
       "      <td>Temporary Site</td>\n",
       "    </tr>\n",
       "  </tbody>\n",
       "</table>\n",
       "<p>1155 rows × 7 columns</p>\n",
       "</div>"
      ],
      "text/plain": [
       "            Start_Date          End_Date  Category             Start  \\\n",
       "0     01/01/2016 21:11  01/01/2016 21:17  Business       Fort Pierce   \n",
       "1      01/02/2016 1:25   01/02/2016 1:37  Business       Fort Pierce   \n",
       "2     01/02/2016 20:25  01/02/2016 20:38  Business       Fort Pierce   \n",
       "3     01/05/2016 17:31  01/05/2016 17:45  Business       Fort Pierce   \n",
       "4     01/06/2016 14:42  01/06/2016 15:49  Business       Fort Pierce   \n",
       "...                ...               ...       ...               ...   \n",
       "1150   12/31/2016 1:07   12/31/2016 1:14  Business           Kar?chi   \n",
       "1151  12/31/2016 13:24  12/31/2016 13:42  Business           Kar?chi   \n",
       "1152  12/31/2016 15:03  12/31/2016 15:38  Business  Unknown Location   \n",
       "1153  12/31/2016 21:32  12/31/2016 21:50  Business        Katunayake   \n",
       "1154  12/31/2016 22:08  12/31/2016 23:51  Business           Gampaha   \n",
       "\n",
       "                  Stop  Miles          Purpose  \n",
       "0          Fort Pierce    5.1   Meal/Entertain  \n",
       "1          Fort Pierce    5.0              NaN  \n",
       "2          Fort Pierce    4.8  Errand/Supplies  \n",
       "3          Fort Pierce    4.7          Meeting  \n",
       "4      West Palm Beach   63.7   Customer Visit  \n",
       "...                ...    ...              ...  \n",
       "1150           Kar?chi    0.7          Meeting  \n",
       "1151  Unknown Location    3.9   Temporary Site  \n",
       "1152  Unknown Location   16.2          Meeting  \n",
       "1153           Gampaha    6.4   Temporary Site  \n",
       "1154         Ilukwatta   48.2   Temporary Site  \n",
       "\n",
       "[1155 rows x 7 columns]"
      ]
     },
     "execution_count": 63,
     "metadata": {},
     "output_type": "execute_result"
    }
   ],
   "source": [
    "cleaned_df.columns=cleaned_df.columns.str.title()\n",
    "cleaned_df"
   ]
  },
  {
   "cell_type": "markdown",
   "metadata": {},
   "source": [
    "* <b> We noticed that there are some special character in our dataset"
   ]
  },
  {
   "cell_type": "code",
   "execution_count": 64,
   "metadata": {},
   "outputs": [
    {
     "data": {
      "text/html": [
       "<div>\n",
       "<style scoped>\n",
       "    .dataframe tbody tr th:only-of-type {\n",
       "        vertical-align: middle;\n",
       "    }\n",
       "\n",
       "    .dataframe tbody tr th {\n",
       "        vertical-align: top;\n",
       "    }\n",
       "\n",
       "    .dataframe thead th {\n",
       "        text-align: right;\n",
       "    }\n",
       "</style>\n",
       "<table border=\"1\" class=\"dataframe\">\n",
       "  <thead>\n",
       "    <tr style=\"text-align: right;\">\n",
       "      <th></th>\n",
       "      <th>Start_Date</th>\n",
       "      <th>End_Date</th>\n",
       "      <th>Category</th>\n",
       "      <th>Start</th>\n",
       "      <th>Stop</th>\n",
       "      <th>Miles</th>\n",
       "      <th>Purpose</th>\n",
       "    </tr>\n",
       "  </thead>\n",
       "  <tbody>\n",
       "    <tr>\n",
       "      <th>140</th>\n",
       "      <td>2/20/2016 14:50</td>\n",
       "      <td>2/20/2016 15:54</td>\n",
       "      <td>Business</td>\n",
       "      <td>R?walpindi</td>\n",
       "      <td>R?walpindi</td>\n",
       "      <td>23.1</td>\n",
       "      <td>Meeting</td>\n",
       "    </tr>\n",
       "    <tr>\n",
       "      <th>141</th>\n",
       "      <td>2/20/2016 16:59</td>\n",
       "      <td>2/20/2016 17:54</td>\n",
       "      <td>Personal</td>\n",
       "      <td>R?walpindi</td>\n",
       "      <td>Unknown Location</td>\n",
       "      <td>16.5</td>\n",
       "      <td>NaN</td>\n",
       "    </tr>\n",
       "    <tr>\n",
       "      <th>656</th>\n",
       "      <td>8/15/2016 9:05</td>\n",
       "      <td>8/15/2016 9:52</td>\n",
       "      <td>Business</td>\n",
       "      <td>R?walpindi</td>\n",
       "      <td>Unknown Location</td>\n",
       "      <td>15.6</td>\n",
       "      <td>NaN</td>\n",
       "    </tr>\n",
       "    <tr>\n",
       "      <th>670</th>\n",
       "      <td>8/17/2016 15:32</td>\n",
       "      <td>8/17/2016 15:47</td>\n",
       "      <td>Business</td>\n",
       "      <td>R?walpindi</td>\n",
       "      <td>Islamabad</td>\n",
       "      <td>6.4</td>\n",
       "      <td>NaN</td>\n",
       "    </tr>\n",
       "    <tr>\n",
       "      <th>679</th>\n",
       "      <td>8/19/2016 10:57</td>\n",
       "      <td>8/19/2016 11:06</td>\n",
       "      <td>Business</td>\n",
       "      <td>R?walpindi</td>\n",
       "      <td>Unknown Location</td>\n",
       "      <td>2.0</td>\n",
       "      <td>NaN</td>\n",
       "    </tr>\n",
       "    <tr>\n",
       "      <th>696</th>\n",
       "      <td>8/22/2016 20:53</td>\n",
       "      <td>8/22/2016 21:31</td>\n",
       "      <td>Business</td>\n",
       "      <td>R?walpindi</td>\n",
       "      <td>R?walpindi</td>\n",
       "      <td>4.1</td>\n",
       "      <td>NaN</td>\n",
       "    </tr>\n",
       "    <tr>\n",
       "      <th>697</th>\n",
       "      <td>8/22/2016 22:31</td>\n",
       "      <td>8/22/2016 23:00</td>\n",
       "      <td>Business</td>\n",
       "      <td>R?walpindi</td>\n",
       "      <td>Unknown Location</td>\n",
       "      <td>18.7</td>\n",
       "      <td>NaN</td>\n",
       "    </tr>\n",
       "    <tr>\n",
       "      <th>763</th>\n",
       "      <td>9/19/2016 6:18</td>\n",
       "      <td>9/19/2016 6:49</td>\n",
       "      <td>Business</td>\n",
       "      <td>R?walpindi</td>\n",
       "      <td>Unknown Location</td>\n",
       "      <td>18.2</td>\n",
       "      <td>NaN</td>\n",
       "    </tr>\n",
       "    <tr>\n",
       "      <th>788</th>\n",
       "      <td>10/06/2016 17:23</td>\n",
       "      <td>10/06/2016 17:40</td>\n",
       "      <td>Business</td>\n",
       "      <td>R?walpindi</td>\n",
       "      <td>Unknown Location</td>\n",
       "      <td>112.6</td>\n",
       "      <td>NaN</td>\n",
       "    </tr>\n",
       "    <tr>\n",
       "      <th>804</th>\n",
       "      <td>10/12/2016 19:18</td>\n",
       "      <td>10/12/2016 19:21</td>\n",
       "      <td>Business</td>\n",
       "      <td>R?walpindi</td>\n",
       "      <td>Unknown Location</td>\n",
       "      <td>18.4</td>\n",
       "      <td>NaN</td>\n",
       "    </tr>\n",
       "    <tr>\n",
       "      <th>811</th>\n",
       "      <td>10/14/2016 10:16</td>\n",
       "      <td>10/14/2016 10:52</td>\n",
       "      <td>Business</td>\n",
       "      <td>R?walpindi</td>\n",
       "      <td>Unknown Location</td>\n",
       "      <td>12.4</td>\n",
       "      <td>NaN</td>\n",
       "    </tr>\n",
       "    <tr>\n",
       "      <th>1119</th>\n",
       "      <td>12/27/2016 7:02</td>\n",
       "      <td>12/27/2016 7:14</td>\n",
       "      <td>Business</td>\n",
       "      <td>Kar?chi</td>\n",
       "      <td>Kar?chi</td>\n",
       "      <td>4.9</td>\n",
       "      <td>Temporary Site</td>\n",
       "    </tr>\n",
       "    <tr>\n",
       "      <th>1120</th>\n",
       "      <td>12/27/2016 8:37</td>\n",
       "      <td>12/27/2016 8:59</td>\n",
       "      <td>Business</td>\n",
       "      <td>Kar?chi</td>\n",
       "      <td>Kar?chi</td>\n",
       "      <td>5.0</td>\n",
       "      <td>Meal/Entertain</td>\n",
       "    </tr>\n",
       "    <tr>\n",
       "      <th>1121</th>\n",
       "      <td>12/27/2016 12:53</td>\n",
       "      <td>12/27/2016 12:57</td>\n",
       "      <td>Business</td>\n",
       "      <td>Kar?chi</td>\n",
       "      <td>Kar?chi</td>\n",
       "      <td>0.6</td>\n",
       "      <td>Meal/Entertain</td>\n",
       "    </tr>\n",
       "    <tr>\n",
       "      <th>1122</th>\n",
       "      <td>12/27/2016 14:49</td>\n",
       "      <td>12/27/2016 15:03</td>\n",
       "      <td>Business</td>\n",
       "      <td>Kar?chi</td>\n",
       "      <td>Unknown Location</td>\n",
       "      <td>3.1</td>\n",
       "      <td>Customer Visit</td>\n",
       "    </tr>\n",
       "    <tr>\n",
       "      <th>1124</th>\n",
       "      <td>12/27/2016 19:19</td>\n",
       "      <td>12/27/2016 19:50</td>\n",
       "      <td>Business</td>\n",
       "      <td>Kar?chi</td>\n",
       "      <td>Kar?chi</td>\n",
       "      <td>5.5</td>\n",
       "      <td>Customer Visit</td>\n",
       "    </tr>\n",
       "    <tr>\n",
       "      <th>1125</th>\n",
       "      <td>12/28/2016 8:34</td>\n",
       "      <td>12/28/2016 9:06</td>\n",
       "      <td>Business</td>\n",
       "      <td>Kar?chi</td>\n",
       "      <td>Unknown Location</td>\n",
       "      <td>10.3</td>\n",
       "      <td>Meal/Entertain</td>\n",
       "    </tr>\n",
       "    <tr>\n",
       "      <th>1127</th>\n",
       "      <td>12/28/2016 13:53</td>\n",
       "      <td>12/28/2016 14:01</td>\n",
       "      <td>Business</td>\n",
       "      <td>Kar?chi</td>\n",
       "      <td>Kar?chi</td>\n",
       "      <td>2.0</td>\n",
       "      <td>Errand/Supplies</td>\n",
       "    </tr>\n",
       "    <tr>\n",
       "      <th>1128</th>\n",
       "      <td>12/28/2016 15:04</td>\n",
       "      <td>12/28/2016 15:39</td>\n",
       "      <td>Business</td>\n",
       "      <td>Kar?chi</td>\n",
       "      <td>Unknown Location</td>\n",
       "      <td>8.5</td>\n",
       "      <td>Meal/Entertain</td>\n",
       "    </tr>\n",
       "    <tr>\n",
       "      <th>1130</th>\n",
       "      <td>12/28/2016 18:33</td>\n",
       "      <td>12/28/2016 18:56</td>\n",
       "      <td>Business</td>\n",
       "      <td>Kar?chi</td>\n",
       "      <td>Kar?chi</td>\n",
       "      <td>3.8</td>\n",
       "      <td>Errand/Supplies</td>\n",
       "    </tr>\n",
       "    <tr>\n",
       "      <th>1131</th>\n",
       "      <td>12/28/2016 22:44</td>\n",
       "      <td>12/28/2016 23:18</td>\n",
       "      <td>Business</td>\n",
       "      <td>Kar?chi</td>\n",
       "      <td>Kar?chi</td>\n",
       "      <td>5.1</td>\n",
       "      <td>Errand/Supplies</td>\n",
       "    </tr>\n",
       "    <tr>\n",
       "      <th>1132</th>\n",
       "      <td>12/29/2016 0:49</td>\n",
       "      <td>12/29/2016 1:06</td>\n",
       "      <td>Business</td>\n",
       "      <td>Kar?chi</td>\n",
       "      <td>Kar?chi</td>\n",
       "      <td>3.8</td>\n",
       "      <td>Errand/Supplies</td>\n",
       "    </tr>\n",
       "    <tr>\n",
       "      <th>1133</th>\n",
       "      <td>12/29/2016 9:44</td>\n",
       "      <td>12/29/2016 10:07</td>\n",
       "      <td>Business</td>\n",
       "      <td>Kar?chi</td>\n",
       "      <td>Unknown Location</td>\n",
       "      <td>11.6</td>\n",
       "      <td>Meal/Entertain</td>\n",
       "    </tr>\n",
       "    <tr>\n",
       "      <th>1135</th>\n",
       "      <td>12/29/2016 12:25</td>\n",
       "      <td>12/29/2016 12:33</td>\n",
       "      <td>Business</td>\n",
       "      <td>Kar?chi</td>\n",
       "      <td>Kar?chi</td>\n",
       "      <td>1.4</td>\n",
       "      <td>Errand/Supplies</td>\n",
       "    </tr>\n",
       "    <tr>\n",
       "      <th>1136</th>\n",
       "      <td>12/29/2016 13:17</td>\n",
       "      <td>12/29/2016 13:24</td>\n",
       "      <td>Business</td>\n",
       "      <td>Kar?chi</td>\n",
       "      <td>Kar?chi</td>\n",
       "      <td>1.1</td>\n",
       "      <td>Errand/Supplies</td>\n",
       "    </tr>\n",
       "    <tr>\n",
       "      <th>1137</th>\n",
       "      <td>12/29/2016 13:56</td>\n",
       "      <td>12/29/2016 14:11</td>\n",
       "      <td>Business</td>\n",
       "      <td>Kar?chi</td>\n",
       "      <td>Kar?chi</td>\n",
       "      <td>4.1</td>\n",
       "      <td>Airport/Travel</td>\n",
       "    </tr>\n",
       "    <tr>\n",
       "      <th>1138</th>\n",
       "      <td>12/29/2016 14:42</td>\n",
       "      <td>12/29/2016 14:58</td>\n",
       "      <td>Business</td>\n",
       "      <td>Kar?chi</td>\n",
       "      <td>Kar?chi</td>\n",
       "      <td>6.1</td>\n",
       "      <td>Between Offices</td>\n",
       "    </tr>\n",
       "    <tr>\n",
       "      <th>1139</th>\n",
       "      <td>12/29/2016 15:05</td>\n",
       "      <td>12/29/2016 15:16</td>\n",
       "      <td>Business</td>\n",
       "      <td>Kar?chi</td>\n",
       "      <td>Kar?chi</td>\n",
       "      <td>1.3</td>\n",
       "      <td>Errand/Supplies</td>\n",
       "    </tr>\n",
       "    <tr>\n",
       "      <th>1140</th>\n",
       "      <td>12/29/2016 18:59</td>\n",
       "      <td>12/29/2016 19:14</td>\n",
       "      <td>Business</td>\n",
       "      <td>Kar?chi</td>\n",
       "      <td>Unknown Location</td>\n",
       "      <td>3.0</td>\n",
       "      <td>Meal/Entertain</td>\n",
       "    </tr>\n",
       "    <tr>\n",
       "      <th>1142</th>\n",
       "      <td>12/29/2016 20:15</td>\n",
       "      <td>12/29/2016 20:45</td>\n",
       "      <td>Business</td>\n",
       "      <td>Kar?chi</td>\n",
       "      <td>Kar?chi</td>\n",
       "      <td>7.2</td>\n",
       "      <td>Meeting</td>\n",
       "    </tr>\n",
       "    <tr>\n",
       "      <th>1143</th>\n",
       "      <td>12/29/2016 20:53</td>\n",
       "      <td>12/29/2016 21:42</td>\n",
       "      <td>Business</td>\n",
       "      <td>Kar?chi</td>\n",
       "      <td>Unknown Location</td>\n",
       "      <td>6.4</td>\n",
       "      <td>NaN</td>\n",
       "    </tr>\n",
       "    <tr>\n",
       "      <th>1145</th>\n",
       "      <td>12/30/2016 10:15</td>\n",
       "      <td>12/30/2016 10:33</td>\n",
       "      <td>Business</td>\n",
       "      <td>Kar?chi</td>\n",
       "      <td>Kar?chi</td>\n",
       "      <td>2.8</td>\n",
       "      <td>Errand/Supplies</td>\n",
       "    </tr>\n",
       "    <tr>\n",
       "      <th>1146</th>\n",
       "      <td>12/30/2016 11:31</td>\n",
       "      <td>12/30/2016 11:56</td>\n",
       "      <td>Business</td>\n",
       "      <td>Kar?chi</td>\n",
       "      <td>Kar?chi</td>\n",
       "      <td>2.9</td>\n",
       "      <td>Errand/Supplies</td>\n",
       "    </tr>\n",
       "    <tr>\n",
       "      <th>1147</th>\n",
       "      <td>12/30/2016 15:41</td>\n",
       "      <td>12/30/2016 16:03</td>\n",
       "      <td>Business</td>\n",
       "      <td>Kar?chi</td>\n",
       "      <td>Kar?chi</td>\n",
       "      <td>4.6</td>\n",
       "      <td>Errand/Supplies</td>\n",
       "    </tr>\n",
       "    <tr>\n",
       "      <th>1148</th>\n",
       "      <td>12/30/2016 16:45</td>\n",
       "      <td>12/30/2016 17:08</td>\n",
       "      <td>Business</td>\n",
       "      <td>Kar?chi</td>\n",
       "      <td>Kar?chi</td>\n",
       "      <td>4.6</td>\n",
       "      <td>Meeting</td>\n",
       "    </tr>\n",
       "    <tr>\n",
       "      <th>1149</th>\n",
       "      <td>12/30/2016 23:06</td>\n",
       "      <td>12/30/2016 23:10</td>\n",
       "      <td>Business</td>\n",
       "      <td>Kar?chi</td>\n",
       "      <td>Kar?chi</td>\n",
       "      <td>0.8</td>\n",
       "      <td>Customer Visit</td>\n",
       "    </tr>\n",
       "    <tr>\n",
       "      <th>1150</th>\n",
       "      <td>12/31/2016 1:07</td>\n",
       "      <td>12/31/2016 1:14</td>\n",
       "      <td>Business</td>\n",
       "      <td>Kar?chi</td>\n",
       "      <td>Kar?chi</td>\n",
       "      <td>0.7</td>\n",
       "      <td>Meeting</td>\n",
       "    </tr>\n",
       "    <tr>\n",
       "      <th>1151</th>\n",
       "      <td>12/31/2016 13:24</td>\n",
       "      <td>12/31/2016 13:42</td>\n",
       "      <td>Business</td>\n",
       "      <td>Kar?chi</td>\n",
       "      <td>Unknown Location</td>\n",
       "      <td>3.9</td>\n",
       "      <td>Temporary Site</td>\n",
       "    </tr>\n",
       "  </tbody>\n",
       "</table>\n",
       "</div>"
      ],
      "text/plain": [
       "            Start_Date          End_Date  Category       Start  \\\n",
       "140    2/20/2016 14:50   2/20/2016 15:54  Business  R?walpindi   \n",
       "141    2/20/2016 16:59   2/20/2016 17:54  Personal  R?walpindi   \n",
       "656     8/15/2016 9:05    8/15/2016 9:52  Business  R?walpindi   \n",
       "670    8/17/2016 15:32   8/17/2016 15:47  Business  R?walpindi   \n",
       "679    8/19/2016 10:57   8/19/2016 11:06  Business  R?walpindi   \n",
       "696    8/22/2016 20:53   8/22/2016 21:31  Business  R?walpindi   \n",
       "697    8/22/2016 22:31   8/22/2016 23:00  Business  R?walpindi   \n",
       "763     9/19/2016 6:18    9/19/2016 6:49  Business  R?walpindi   \n",
       "788   10/06/2016 17:23  10/06/2016 17:40  Business  R?walpindi   \n",
       "804   10/12/2016 19:18  10/12/2016 19:21  Business  R?walpindi   \n",
       "811   10/14/2016 10:16  10/14/2016 10:52  Business  R?walpindi   \n",
       "1119   12/27/2016 7:02   12/27/2016 7:14  Business     Kar?chi   \n",
       "1120   12/27/2016 8:37   12/27/2016 8:59  Business     Kar?chi   \n",
       "1121  12/27/2016 12:53  12/27/2016 12:57  Business     Kar?chi   \n",
       "1122  12/27/2016 14:49  12/27/2016 15:03  Business     Kar?chi   \n",
       "1124  12/27/2016 19:19  12/27/2016 19:50  Business     Kar?chi   \n",
       "1125   12/28/2016 8:34   12/28/2016 9:06  Business     Kar?chi   \n",
       "1127  12/28/2016 13:53  12/28/2016 14:01  Business     Kar?chi   \n",
       "1128  12/28/2016 15:04  12/28/2016 15:39  Business     Kar?chi   \n",
       "1130  12/28/2016 18:33  12/28/2016 18:56  Business     Kar?chi   \n",
       "1131  12/28/2016 22:44  12/28/2016 23:18  Business     Kar?chi   \n",
       "1132   12/29/2016 0:49   12/29/2016 1:06  Business     Kar?chi   \n",
       "1133   12/29/2016 9:44  12/29/2016 10:07  Business     Kar?chi   \n",
       "1135  12/29/2016 12:25  12/29/2016 12:33  Business     Kar?chi   \n",
       "1136  12/29/2016 13:17  12/29/2016 13:24  Business     Kar?chi   \n",
       "1137  12/29/2016 13:56  12/29/2016 14:11  Business     Kar?chi   \n",
       "1138  12/29/2016 14:42  12/29/2016 14:58  Business     Kar?chi   \n",
       "1139  12/29/2016 15:05  12/29/2016 15:16  Business     Kar?chi   \n",
       "1140  12/29/2016 18:59  12/29/2016 19:14  Business     Kar?chi   \n",
       "1142  12/29/2016 20:15  12/29/2016 20:45  Business     Kar?chi   \n",
       "1143  12/29/2016 20:53  12/29/2016 21:42  Business     Kar?chi   \n",
       "1145  12/30/2016 10:15  12/30/2016 10:33  Business     Kar?chi   \n",
       "1146  12/30/2016 11:31  12/30/2016 11:56  Business     Kar?chi   \n",
       "1147  12/30/2016 15:41  12/30/2016 16:03  Business     Kar?chi   \n",
       "1148  12/30/2016 16:45  12/30/2016 17:08  Business     Kar?chi   \n",
       "1149  12/30/2016 23:06  12/30/2016 23:10  Business     Kar?chi   \n",
       "1150   12/31/2016 1:07   12/31/2016 1:14  Business     Kar?chi   \n",
       "1151  12/31/2016 13:24  12/31/2016 13:42  Business     Kar?chi   \n",
       "\n",
       "                  Stop  Miles          Purpose  \n",
       "140         R?walpindi   23.1          Meeting  \n",
       "141   Unknown Location   16.5              NaN  \n",
       "656   Unknown Location   15.6              NaN  \n",
       "670          Islamabad    6.4              NaN  \n",
       "679   Unknown Location    2.0              NaN  \n",
       "696         R?walpindi    4.1              NaN  \n",
       "697   Unknown Location   18.7              NaN  \n",
       "763   Unknown Location   18.2              NaN  \n",
       "788   Unknown Location  112.6              NaN  \n",
       "804   Unknown Location   18.4              NaN  \n",
       "811   Unknown Location   12.4              NaN  \n",
       "1119           Kar?chi    4.9   Temporary Site  \n",
       "1120           Kar?chi    5.0   Meal/Entertain  \n",
       "1121           Kar?chi    0.6   Meal/Entertain  \n",
       "1122  Unknown Location    3.1   Customer Visit  \n",
       "1124           Kar?chi    5.5   Customer Visit  \n",
       "1125  Unknown Location   10.3   Meal/Entertain  \n",
       "1127           Kar?chi    2.0  Errand/Supplies  \n",
       "1128  Unknown Location    8.5   Meal/Entertain  \n",
       "1130           Kar?chi    3.8  Errand/Supplies  \n",
       "1131           Kar?chi    5.1  Errand/Supplies  \n",
       "1132           Kar?chi    3.8  Errand/Supplies  \n",
       "1133  Unknown Location   11.6   Meal/Entertain  \n",
       "1135           Kar?chi    1.4  Errand/Supplies  \n",
       "1136           Kar?chi    1.1  Errand/Supplies  \n",
       "1137           Kar?chi    4.1   Airport/Travel  \n",
       "1138           Kar?chi    6.1  Between Offices  \n",
       "1139           Kar?chi    1.3  Errand/Supplies  \n",
       "1140  Unknown Location    3.0   Meal/Entertain  \n",
       "1142           Kar?chi    7.2          Meeting  \n",
       "1143  Unknown Location    6.4              NaN  \n",
       "1145           Kar?chi    2.8  Errand/Supplies  \n",
       "1146           Kar?chi    2.9  Errand/Supplies  \n",
       "1147           Kar?chi    4.6  Errand/Supplies  \n",
       "1148           Kar?chi    4.6          Meeting  \n",
       "1149           Kar?chi    0.8   Customer Visit  \n",
       "1150           Kar?chi    0.7          Meeting  \n",
       "1151  Unknown Location    3.9   Temporary Site  "
      ]
     },
     "execution_count": 64,
     "metadata": {},
     "output_type": "execute_result"
    }
   ],
   "source": [
    "cleaned_df[cleaned_df.Start.str.contains('\\?') == True]\n",
    "# cleaned_df[cleaned_df.Stop.str.contains('\\?') == True]"
   ]
  },
  {
   "cell_type": "markdown",
   "metadata": {},
   "source": [
    "* <b> Removing special characters from our dataset"
   ]
  },
  {
   "cell_type": "code",
   "execution_count": 65,
   "metadata": {},
   "outputs": [],
   "source": [
    "cleaned_df[\"Start\"] = cleaned_df[\"Start\"].replace({\"\\?\":\"a\"}, regex=True)\n",
    "cleaned_df[\"Stop\"] = cleaned_df[\"Stop\"].replace({\"\\?\":\"a\"}, regex=True)\n"
   ]
  },
  {
   "cell_type": "markdown",
   "metadata": {},
   "source": [
    "* <b> Now we noticed that there are NaN values in purpose column so we replace it by \"Not Available\""
   ]
  },
  {
   "cell_type": "code",
   "execution_count": 66,
   "metadata": {},
   "outputs": [
    {
     "data": {
      "text/html": [
       "<div>\n",
       "<style scoped>\n",
       "    .dataframe tbody tr th:only-of-type {\n",
       "        vertical-align: middle;\n",
       "    }\n",
       "\n",
       "    .dataframe tbody tr th {\n",
       "        vertical-align: top;\n",
       "    }\n",
       "\n",
       "    .dataframe thead th {\n",
       "        text-align: right;\n",
       "    }\n",
       "</style>\n",
       "<table border=\"1\" class=\"dataframe\">\n",
       "  <thead>\n",
       "    <tr style=\"text-align: right;\">\n",
       "      <th></th>\n",
       "      <th>Start_Date</th>\n",
       "      <th>End_Date</th>\n",
       "      <th>Category</th>\n",
       "      <th>Start</th>\n",
       "      <th>Stop</th>\n",
       "      <th>Miles</th>\n",
       "      <th>Purpose</th>\n",
       "    </tr>\n",
       "  </thead>\n",
       "  <tbody>\n",
       "    <tr>\n",
       "      <th>0</th>\n",
       "      <td>01/01/2016 21:11</td>\n",
       "      <td>01/01/2016 21:17</td>\n",
       "      <td>Business</td>\n",
       "      <td>Fort Pierce</td>\n",
       "      <td>Fort Pierce</td>\n",
       "      <td>5.1</td>\n",
       "      <td>Meal/Entertain</td>\n",
       "    </tr>\n",
       "    <tr>\n",
       "      <th>1</th>\n",
       "      <td>01/02/2016 1:25</td>\n",
       "      <td>01/02/2016 1:37</td>\n",
       "      <td>Business</td>\n",
       "      <td>Fort Pierce</td>\n",
       "      <td>Fort Pierce</td>\n",
       "      <td>5.0</td>\n",
       "      <td>Not Available</td>\n",
       "    </tr>\n",
       "    <tr>\n",
       "      <th>2</th>\n",
       "      <td>01/02/2016 20:25</td>\n",
       "      <td>01/02/2016 20:38</td>\n",
       "      <td>Business</td>\n",
       "      <td>Fort Pierce</td>\n",
       "      <td>Fort Pierce</td>\n",
       "      <td>4.8</td>\n",
       "      <td>Errand/Supplies</td>\n",
       "    </tr>\n",
       "    <tr>\n",
       "      <th>3</th>\n",
       "      <td>01/05/2016 17:31</td>\n",
       "      <td>01/05/2016 17:45</td>\n",
       "      <td>Business</td>\n",
       "      <td>Fort Pierce</td>\n",
       "      <td>Fort Pierce</td>\n",
       "      <td>4.7</td>\n",
       "      <td>Meeting</td>\n",
       "    </tr>\n",
       "    <tr>\n",
       "      <th>4</th>\n",
       "      <td>01/06/2016 14:42</td>\n",
       "      <td>01/06/2016 15:49</td>\n",
       "      <td>Business</td>\n",
       "      <td>Fort Pierce</td>\n",
       "      <td>West Palm Beach</td>\n",
       "      <td>63.7</td>\n",
       "      <td>Customer Visit</td>\n",
       "    </tr>\n",
       "    <tr>\n",
       "      <th>...</th>\n",
       "      <td>...</td>\n",
       "      <td>...</td>\n",
       "      <td>...</td>\n",
       "      <td>...</td>\n",
       "      <td>...</td>\n",
       "      <td>...</td>\n",
       "      <td>...</td>\n",
       "    </tr>\n",
       "    <tr>\n",
       "      <th>1150</th>\n",
       "      <td>12/31/2016 1:07</td>\n",
       "      <td>12/31/2016 1:14</td>\n",
       "      <td>Business</td>\n",
       "      <td>Karachi</td>\n",
       "      <td>Karachi</td>\n",
       "      <td>0.7</td>\n",
       "      <td>Meeting</td>\n",
       "    </tr>\n",
       "    <tr>\n",
       "      <th>1151</th>\n",
       "      <td>12/31/2016 13:24</td>\n",
       "      <td>12/31/2016 13:42</td>\n",
       "      <td>Business</td>\n",
       "      <td>Karachi</td>\n",
       "      <td>Unknown Location</td>\n",
       "      <td>3.9</td>\n",
       "      <td>Temporary Site</td>\n",
       "    </tr>\n",
       "    <tr>\n",
       "      <th>1152</th>\n",
       "      <td>12/31/2016 15:03</td>\n",
       "      <td>12/31/2016 15:38</td>\n",
       "      <td>Business</td>\n",
       "      <td>Unknown Location</td>\n",
       "      <td>Unknown Location</td>\n",
       "      <td>16.2</td>\n",
       "      <td>Meeting</td>\n",
       "    </tr>\n",
       "    <tr>\n",
       "      <th>1153</th>\n",
       "      <td>12/31/2016 21:32</td>\n",
       "      <td>12/31/2016 21:50</td>\n",
       "      <td>Business</td>\n",
       "      <td>Katunayake</td>\n",
       "      <td>Gampaha</td>\n",
       "      <td>6.4</td>\n",
       "      <td>Temporary Site</td>\n",
       "    </tr>\n",
       "    <tr>\n",
       "      <th>1154</th>\n",
       "      <td>12/31/2016 22:08</td>\n",
       "      <td>12/31/2016 23:51</td>\n",
       "      <td>Business</td>\n",
       "      <td>Gampaha</td>\n",
       "      <td>Ilukwatta</td>\n",
       "      <td>48.2</td>\n",
       "      <td>Temporary Site</td>\n",
       "    </tr>\n",
       "  </tbody>\n",
       "</table>\n",
       "<p>1155 rows × 7 columns</p>\n",
       "</div>"
      ],
      "text/plain": [
       "            Start_Date          End_Date  Category             Start  \\\n",
       "0     01/01/2016 21:11  01/01/2016 21:17  Business       Fort Pierce   \n",
       "1      01/02/2016 1:25   01/02/2016 1:37  Business       Fort Pierce   \n",
       "2     01/02/2016 20:25  01/02/2016 20:38  Business       Fort Pierce   \n",
       "3     01/05/2016 17:31  01/05/2016 17:45  Business       Fort Pierce   \n",
       "4     01/06/2016 14:42  01/06/2016 15:49  Business       Fort Pierce   \n",
       "...                ...               ...       ...               ...   \n",
       "1150   12/31/2016 1:07   12/31/2016 1:14  Business           Karachi   \n",
       "1151  12/31/2016 13:24  12/31/2016 13:42  Business           Karachi   \n",
       "1152  12/31/2016 15:03  12/31/2016 15:38  Business  Unknown Location   \n",
       "1153  12/31/2016 21:32  12/31/2016 21:50  Business        Katunayake   \n",
       "1154  12/31/2016 22:08  12/31/2016 23:51  Business           Gampaha   \n",
       "\n",
       "                  Stop  Miles          Purpose  \n",
       "0          Fort Pierce    5.1   Meal/Entertain  \n",
       "1          Fort Pierce    5.0    Not Available  \n",
       "2          Fort Pierce    4.8  Errand/Supplies  \n",
       "3          Fort Pierce    4.7          Meeting  \n",
       "4      West Palm Beach   63.7   Customer Visit  \n",
       "...                ...    ...              ...  \n",
       "1150           Karachi    0.7          Meeting  \n",
       "1151  Unknown Location    3.9   Temporary Site  \n",
       "1152  Unknown Location   16.2          Meeting  \n",
       "1153           Gampaha    6.4   Temporary Site  \n",
       "1154         Ilukwatta   48.2   Temporary Site  \n",
       "\n",
       "[1155 rows x 7 columns]"
      ]
     },
     "execution_count": 66,
     "metadata": {},
     "output_type": "execute_result"
    }
   ],
   "source": [
    "cleaned_df[\"Purpose\"]=cleaned_df[\"Purpose\"].fillna(\"Not Available\")\n",
    "cleaned_df"
   ]
  },
  {
   "cell_type": "markdown",
   "metadata": {},
   "source": [
    "* <b> Dropping duplicate row</b>"
   ]
  },
  {
   "cell_type": "code",
   "execution_count": 67,
   "metadata": {},
   "outputs": [
    {
     "data": {
      "text/html": [
       "<div>\n",
       "<style scoped>\n",
       "    .dataframe tbody tr th:only-of-type {\n",
       "        vertical-align: middle;\n",
       "    }\n",
       "\n",
       "    .dataframe tbody tr th {\n",
       "        vertical-align: top;\n",
       "    }\n",
       "\n",
       "    .dataframe thead th {\n",
       "        text-align: right;\n",
       "    }\n",
       "</style>\n",
       "<table border=\"1\" class=\"dataframe\">\n",
       "  <thead>\n",
       "    <tr style=\"text-align: right;\">\n",
       "      <th></th>\n",
       "      <th>Start_Date</th>\n",
       "      <th>End_Date</th>\n",
       "      <th>Category</th>\n",
       "      <th>Start</th>\n",
       "      <th>Stop</th>\n",
       "      <th>Miles</th>\n",
       "      <th>Purpose</th>\n",
       "    </tr>\n",
       "  </thead>\n",
       "  <tbody>\n",
       "    <tr>\n",
       "      <th>0</th>\n",
       "      <td>01/01/2016 21:11</td>\n",
       "      <td>01/01/2016 21:17</td>\n",
       "      <td>Business</td>\n",
       "      <td>Fort Pierce</td>\n",
       "      <td>Fort Pierce</td>\n",
       "      <td>5.1</td>\n",
       "      <td>Meal/Entertain</td>\n",
       "    </tr>\n",
       "    <tr>\n",
       "      <th>1</th>\n",
       "      <td>01/02/2016 1:25</td>\n",
       "      <td>01/02/2016 1:37</td>\n",
       "      <td>Business</td>\n",
       "      <td>Fort Pierce</td>\n",
       "      <td>Fort Pierce</td>\n",
       "      <td>5.0</td>\n",
       "      <td>Not Available</td>\n",
       "    </tr>\n",
       "    <tr>\n",
       "      <th>2</th>\n",
       "      <td>01/02/2016 20:25</td>\n",
       "      <td>01/02/2016 20:38</td>\n",
       "      <td>Business</td>\n",
       "      <td>Fort Pierce</td>\n",
       "      <td>Fort Pierce</td>\n",
       "      <td>4.8</td>\n",
       "      <td>Errand/Supplies</td>\n",
       "    </tr>\n",
       "    <tr>\n",
       "      <th>3</th>\n",
       "      <td>01/05/2016 17:31</td>\n",
       "      <td>01/05/2016 17:45</td>\n",
       "      <td>Business</td>\n",
       "      <td>Fort Pierce</td>\n",
       "      <td>Fort Pierce</td>\n",
       "      <td>4.7</td>\n",
       "      <td>Meeting</td>\n",
       "    </tr>\n",
       "    <tr>\n",
       "      <th>4</th>\n",
       "      <td>01/06/2016 14:42</td>\n",
       "      <td>01/06/2016 15:49</td>\n",
       "      <td>Business</td>\n",
       "      <td>Fort Pierce</td>\n",
       "      <td>West Palm Beach</td>\n",
       "      <td>63.7</td>\n",
       "      <td>Customer Visit</td>\n",
       "    </tr>\n",
       "    <tr>\n",
       "      <th>...</th>\n",
       "      <td>...</td>\n",
       "      <td>...</td>\n",
       "      <td>...</td>\n",
       "      <td>...</td>\n",
       "      <td>...</td>\n",
       "      <td>...</td>\n",
       "      <td>...</td>\n",
       "    </tr>\n",
       "    <tr>\n",
       "      <th>1150</th>\n",
       "      <td>12/31/2016 1:07</td>\n",
       "      <td>12/31/2016 1:14</td>\n",
       "      <td>Business</td>\n",
       "      <td>Karachi</td>\n",
       "      <td>Karachi</td>\n",
       "      <td>0.7</td>\n",
       "      <td>Meeting</td>\n",
       "    </tr>\n",
       "    <tr>\n",
       "      <th>1151</th>\n",
       "      <td>12/31/2016 13:24</td>\n",
       "      <td>12/31/2016 13:42</td>\n",
       "      <td>Business</td>\n",
       "      <td>Karachi</td>\n",
       "      <td>Unknown Location</td>\n",
       "      <td>3.9</td>\n",
       "      <td>Temporary Site</td>\n",
       "    </tr>\n",
       "    <tr>\n",
       "      <th>1152</th>\n",
       "      <td>12/31/2016 15:03</td>\n",
       "      <td>12/31/2016 15:38</td>\n",
       "      <td>Business</td>\n",
       "      <td>Unknown Location</td>\n",
       "      <td>Unknown Location</td>\n",
       "      <td>16.2</td>\n",
       "      <td>Meeting</td>\n",
       "    </tr>\n",
       "    <tr>\n",
       "      <th>1153</th>\n",
       "      <td>12/31/2016 21:32</td>\n",
       "      <td>12/31/2016 21:50</td>\n",
       "      <td>Business</td>\n",
       "      <td>Katunayake</td>\n",
       "      <td>Gampaha</td>\n",
       "      <td>6.4</td>\n",
       "      <td>Temporary Site</td>\n",
       "    </tr>\n",
       "    <tr>\n",
       "      <th>1154</th>\n",
       "      <td>12/31/2016 22:08</td>\n",
       "      <td>12/31/2016 23:51</td>\n",
       "      <td>Business</td>\n",
       "      <td>Gampaha</td>\n",
       "      <td>Ilukwatta</td>\n",
       "      <td>48.2</td>\n",
       "      <td>Temporary Site</td>\n",
       "    </tr>\n",
       "  </tbody>\n",
       "</table>\n",
       "<p>1154 rows × 7 columns</p>\n",
       "</div>"
      ],
      "text/plain": [
       "            Start_Date          End_Date  Category             Start  \\\n",
       "0     01/01/2016 21:11  01/01/2016 21:17  Business       Fort Pierce   \n",
       "1      01/02/2016 1:25   01/02/2016 1:37  Business       Fort Pierce   \n",
       "2     01/02/2016 20:25  01/02/2016 20:38  Business       Fort Pierce   \n",
       "3     01/05/2016 17:31  01/05/2016 17:45  Business       Fort Pierce   \n",
       "4     01/06/2016 14:42  01/06/2016 15:49  Business       Fort Pierce   \n",
       "...                ...               ...       ...               ...   \n",
       "1150   12/31/2016 1:07   12/31/2016 1:14  Business           Karachi   \n",
       "1151  12/31/2016 13:24  12/31/2016 13:42  Business           Karachi   \n",
       "1152  12/31/2016 15:03  12/31/2016 15:38  Business  Unknown Location   \n",
       "1153  12/31/2016 21:32  12/31/2016 21:50  Business        Katunayake   \n",
       "1154  12/31/2016 22:08  12/31/2016 23:51  Business           Gampaha   \n",
       "\n",
       "                  Stop  Miles          Purpose  \n",
       "0          Fort Pierce    5.1   Meal/Entertain  \n",
       "1          Fort Pierce    5.0    Not Available  \n",
       "2          Fort Pierce    4.8  Errand/Supplies  \n",
       "3          Fort Pierce    4.7          Meeting  \n",
       "4      West Palm Beach   63.7   Customer Visit  \n",
       "...                ...    ...              ...  \n",
       "1150           Karachi    0.7          Meeting  \n",
       "1151  Unknown Location    3.9   Temporary Site  \n",
       "1152  Unknown Location   16.2          Meeting  \n",
       "1153           Gampaha    6.4   Temporary Site  \n",
       "1154         Ilukwatta   48.2   Temporary Site  \n",
       "\n",
       "[1154 rows x 7 columns]"
      ]
     },
     "execution_count": 67,
     "metadata": {},
     "output_type": "execute_result"
    }
   ],
   "source": [
    "cleaned_df.drop_duplicates()"
   ]
  },
  {
   "cell_type": "markdown",
   "metadata": {},
   "source": [
    "* <b>Split the Start_Date column"
   ]
  },
  {
   "cell_type": "code",
   "execution_count": 68,
   "metadata": {},
   "outputs": [],
   "source": [
    "# Convert 'Start_Date' column to datetime format\n",
    "cleaned_df['Start_Date'] = pd.to_datetime(cleaned_df['Start_Date'], format='%m/%d/%Y %H:%M')\n",
    "\n",
    "# Extract and create a new column for the year\n",
    "cleaned_df[\"Year\"] = cleaned_df[\"Start_Date\"].dt.year\n",
    "\n",
    "# Extract and create a new column for the month (abbreviated)\n",
    "cleaned_df[\"Month\"] = cleaned_df[\"Start_Date\"].dt.strftime(\"%b\")\n",
    "\n",
    "# Extract and create a new column for the day (abbreviated)\n",
    "cleaned_df[\"Departure Day\"] = cleaned_df[\"Start_Date\"].dt.strftime(\"%a\")\n",
    "\n",
    "# Extract and create a new column for the departure time in HH:MM format\n",
    "cleaned_df[\"Departure Time\"] = cleaned_df[\"Start_Date\"].dt.strftime(\"%H:%M\")"
   ]
  },
  {
   "cell_type": "markdown",
   "metadata": {},
   "source": [
    "* <b>Also split End_Date column"
   ]
  },
  {
   "cell_type": "code",
   "execution_count": 69,
   "metadata": {},
   "outputs": [],
   "source": [
    "# Convert 'End_Date' column to datetime format\n",
    "cleaned_df[\"End_Date\"] = pd.to_datetime(cleaned_df[\"End_Date\"], format='%m/%d/%Y %H:%M')\n",
    "\n",
    "# Extract and create a new column for the day of the week when the event ended\n",
    "cleaned_df[\"Arrival Day\"] = cleaned_df[\"End_Date\"].dt.strftime(\"%a\")\n",
    "\n",
    "#Extract and create a new column for the arrival time in HH:MM format\n",
    "cleaned_df[\"Arrival Time\"] = cleaned_df[\"End_Date\"].dt.strftime(\"%H:%M\")"
   ]
  },
  {
   "cell_type": "markdown",
   "metadata": {},
   "source": [
    "* <b>Calculating Duration on trip"
   ]
  },
  {
   "cell_type": "code",
   "execution_count": 70,
   "metadata": {},
   "outputs": [
    {
     "data": {
      "text/html": [
       "<div>\n",
       "<style scoped>\n",
       "    .dataframe tbody tr th:only-of-type {\n",
       "        vertical-align: middle;\n",
       "    }\n",
       "\n",
       "    .dataframe tbody tr th {\n",
       "        vertical-align: top;\n",
       "    }\n",
       "\n",
       "    .dataframe thead th {\n",
       "        text-align: right;\n",
       "    }\n",
       "</style>\n",
       "<table border=\"1\" class=\"dataframe\">\n",
       "  <thead>\n",
       "    <tr style=\"text-align: right;\">\n",
       "      <th></th>\n",
       "      <th>Start_Date</th>\n",
       "      <th>End_Date</th>\n",
       "      <th>Category</th>\n",
       "      <th>Start</th>\n",
       "      <th>Stop</th>\n",
       "      <th>Miles</th>\n",
       "      <th>Purpose</th>\n",
       "      <th>Year</th>\n",
       "      <th>Month</th>\n",
       "      <th>Departure Day</th>\n",
       "      <th>Departure Time</th>\n",
       "      <th>Arrival Day</th>\n",
       "      <th>Arrival Time</th>\n",
       "      <th>Duration</th>\n",
       "    </tr>\n",
       "  </thead>\n",
       "  <tbody>\n",
       "    <tr>\n",
       "      <th>357</th>\n",
       "      <td>2016-05-05 23:55:00</td>\n",
       "      <td>2016-05-06 00:08:00</td>\n",
       "      <td>Business</td>\n",
       "      <td>Bellevue</td>\n",
       "      <td>Seattle</td>\n",
       "      <td>12.9</td>\n",
       "      <td>Meeting</td>\n",
       "      <td>2016</td>\n",
       "      <td>May</td>\n",
       "      <td>Thu</td>\n",
       "      <td>23:55</td>\n",
       "      <td>Fri</td>\n",
       "      <td>00:08</td>\n",
       "      <td>13.0</td>\n",
       "    </tr>\n",
       "    <tr>\n",
       "      <th>120</th>\n",
       "      <td>2016-02-17 16:38:00</td>\n",
       "      <td>2016-02-17 16:43:00</td>\n",
       "      <td>Business</td>\n",
       "      <td>Katunayaka</td>\n",
       "      <td>Katunayaka</td>\n",
       "      <td>0.5</td>\n",
       "      <td>Errand/Supplies</td>\n",
       "      <td>2016</td>\n",
       "      <td>Feb</td>\n",
       "      <td>Wed</td>\n",
       "      <td>16:38</td>\n",
       "      <td>Wed</td>\n",
       "      <td>16:43</td>\n",
       "      <td>5.0</td>\n",
       "    </tr>\n",
       "    <tr>\n",
       "      <th>109</th>\n",
       "      <td>2016-02-16 08:29:00</td>\n",
       "      <td>2016-02-16 09:34:00</td>\n",
       "      <td>Business</td>\n",
       "      <td>Unknown Location</td>\n",
       "      <td>Colombo</td>\n",
       "      <td>14.1</td>\n",
       "      <td>Not Available</td>\n",
       "      <td>2016</td>\n",
       "      <td>Feb</td>\n",
       "      <td>Tue</td>\n",
       "      <td>08:29</td>\n",
       "      <td>Tue</td>\n",
       "      <td>09:34</td>\n",
       "      <td>65.0</td>\n",
       "    </tr>\n",
       "    <tr>\n",
       "      <th>85</th>\n",
       "      <td>2016-02-09 10:54:00</td>\n",
       "      <td>2016-02-09 11:07:00</td>\n",
       "      <td>Personal</td>\n",
       "      <td>Whitebridge</td>\n",
       "      <td>Northwoods</td>\n",
       "      <td>5.3</td>\n",
       "      <td>Not Available</td>\n",
       "      <td>2016</td>\n",
       "      <td>Feb</td>\n",
       "      <td>Tue</td>\n",
       "      <td>10:54</td>\n",
       "      <td>Tue</td>\n",
       "      <td>11:07</td>\n",
       "      <td>13.0</td>\n",
       "    </tr>\n",
       "  </tbody>\n",
       "</table>\n",
       "</div>"
      ],
      "text/plain": [
       "             Start_Date            End_Date  Category             Start  \\\n",
       "357 2016-05-05 23:55:00 2016-05-06 00:08:00  Business          Bellevue   \n",
       "120 2016-02-17 16:38:00 2016-02-17 16:43:00  Business        Katunayaka   \n",
       "109 2016-02-16 08:29:00 2016-02-16 09:34:00  Business  Unknown Location   \n",
       "85  2016-02-09 10:54:00 2016-02-09 11:07:00  Personal       Whitebridge   \n",
       "\n",
       "           Stop  Miles          Purpose  Year Month Departure Day  \\\n",
       "357     Seattle   12.9          Meeting  2016   May           Thu   \n",
       "120  Katunayaka    0.5  Errand/Supplies  2016   Feb           Wed   \n",
       "109     Colombo   14.1    Not Available  2016   Feb           Tue   \n",
       "85   Northwoods    5.3    Not Available  2016   Feb           Tue   \n",
       "\n",
       "    Departure Time Arrival Day Arrival Time  Duration  \n",
       "357          23:55         Fri        00:08      13.0  \n",
       "120          16:38         Wed        16:43       5.0  \n",
       "109          08:29         Tue        09:34      65.0  \n",
       "85           10:54         Tue        11:07      13.0  "
      ]
     },
     "execution_count": 70,
     "metadata": {},
     "output_type": "execute_result"
    }
   ],
   "source": [
    "# Calculate the duration of the trip and create a new column 'Duration' in minutes\n",
    "cleaned_df['Duration'] = (cleaned_df['End_Date'] - cleaned_df['Start_Date']).dt.total_seconds() / 60\n",
    "cleaned_df.sample(4)\n"
   ]
  },
  {
   "cell_type": "markdown",
   "metadata": {},
   "source": [
    "<h2 style = \"background-color: grey; color: white; text-shadow:1.5px 1.5px; border-radius: 20px; text-align: center; font-family:Times New Roman, Times, serif; padding: 20px; display: inline-block\" > Analyzing Cleaned Dataset</h2><br>\n",
    "* <b>After cleaning and editing the whole dataset we again analyze our dataset for better understanding</b>"
   ]
  },
  {
   "cell_type": "markdown",
   "metadata": {},
   "source": [
    "* <b> Most frequent start and stop locations</b>"
   ]
  },
  {
   "cell_type": "code",
   "execution_count": 71,
   "metadata": {},
   "outputs": [
    {
     "name": "stdout",
     "output_type": "stream",
     "text": [
      "Most frequent start location: Cary\n",
      "Most frequent stop location: Cary\n"
     ]
    }
   ],
   "source": [
    "most_frequent_start = cleaned_df['Start'].mode()[0]\n",
    "most_frequent_stop = cleaned_df['Stop'].mode()[0]\n",
    "\n",
    "print(f'Most frequent start location: {most_frequent_start}')\n",
    "print(f'Most frequent stop location: {most_frequent_stop}')\n"
   ]
  },
  {
   "cell_type": "markdown",
   "metadata": {},
   "source": [
    "* <b>Analyzing the 'START*' column in the original_df DataFrame</b>"
   ]
  },
  {
   "cell_type": "code",
   "execution_count": 72,
   "metadata": {},
   "outputs": [
    {
     "name": "stdout",
     "output_type": "stream",
     "text": [
      "Unique starting points: 175\n"
     ]
    },
    {
     "data": {
      "text/plain": [
       "Start\n",
       "Cary                201\n",
       "Unknown Location    148\n",
       "Morrisville          85\n",
       "Whitebridge          68\n",
       "Islamabad            57\n",
       "Durham               37\n",
       "Lahore               36\n",
       "Karachi              31\n",
       "Raleigh              28\n",
       "Apex                 17\n",
       "Name: count, dtype: int64"
      ]
     },
     "execution_count": 72,
     "metadata": {},
     "output_type": "execute_result"
    }
   ],
   "source": [
    "# Printing the number of unique starting points and the top 10 most frequent starting points\n",
    "\n",
    "print(f\"Unique starting points: {len(cleaned_df['Start'].unique())}\")\n",
    "cleaned_df['Start'].value_counts(ascending=False)[:10]"
   ]
  },
  {
   "cell_type": "markdown",
   "metadata": {},
   "source": [
    "* <b>Total rides/month </b>"
   ]
  },
  {
   "cell_type": "code",
   "execution_count": 73,
   "metadata": {},
   "outputs": [
    {
     "data": {
      "text/plain": [
       "Month\n",
       "Dec    146\n",
       "Aug    133\n",
       "Nov    122\n",
       "Feb    115\n",
       "Mar    113\n",
       "Jul    112\n",
       "Jun    108\n",
       "Oct    106\n",
       "Jan     61\n",
       "Apr     54\n",
       "May     49\n",
       "Sep     36\n",
       "Name: count, dtype: int64"
      ]
     },
     "execution_count": 73,
     "metadata": {},
     "output_type": "execute_result"
    }
   ],
   "source": [
    "cleaned_df['Month'].value_counts()"
   ]
  },
  {
   "cell_type": "markdown",
   "metadata": {},
   "source": [
    "* <b>Filter the DataFrame to include only rows where the starting location ('START*') of a trip is different from the ending location ('STOP*').</b>"
   ]
  },
  {
   "cell_type": "code",
   "execution_count": 74,
   "metadata": {},
   "outputs": [
    {
     "data": {
      "text/html": [
       "<div>\n",
       "<style scoped>\n",
       "    .dataframe tbody tr th:only-of-type {\n",
       "        vertical-align: middle;\n",
       "    }\n",
       "\n",
       "    .dataframe tbody tr th {\n",
       "        vertical-align: top;\n",
       "    }\n",
       "\n",
       "    .dataframe thead th {\n",
       "        text-align: right;\n",
       "    }\n",
       "</style>\n",
       "<table border=\"1\" class=\"dataframe\">\n",
       "  <thead>\n",
       "    <tr style=\"text-align: right;\">\n",
       "      <th></th>\n",
       "      <th>START_DATE*</th>\n",
       "      <th>END_DATE*</th>\n",
       "      <th>CATEGORY*</th>\n",
       "      <th>START*</th>\n",
       "      <th>STOP*</th>\n",
       "      <th>MILES*</th>\n",
       "      <th>PURPOSE*</th>\n",
       "    </tr>\n",
       "  </thead>\n",
       "  <tbody>\n",
       "    <tr>\n",
       "      <th>4</th>\n",
       "      <td>01/06/2016 14:42</td>\n",
       "      <td>01/06/2016 15:49</td>\n",
       "      <td>Business</td>\n",
       "      <td>Fort Pierce</td>\n",
       "      <td>West Palm Beach</td>\n",
       "      <td>63.7</td>\n",
       "      <td>Customer Visit</td>\n",
       "    </tr>\n",
       "    <tr>\n",
       "      <th>6</th>\n",
       "      <td>01/06/2016 17:30</td>\n",
       "      <td>01/06/2016 17:35</td>\n",
       "      <td>Business</td>\n",
       "      <td>West Palm Beach</td>\n",
       "      <td>Palm Beach</td>\n",
       "      <td>7.1</td>\n",
       "      <td>Meeting</td>\n",
       "    </tr>\n",
       "    <tr>\n",
       "      <th>8</th>\n",
       "      <td>01/10/2016 8:05</td>\n",
       "      <td>01/10/2016 8:25</td>\n",
       "      <td>Business</td>\n",
       "      <td>Cary</td>\n",
       "      <td>Morrisville</td>\n",
       "      <td>8.3</td>\n",
       "      <td>Meeting</td>\n",
       "    </tr>\n",
       "    <tr>\n",
       "      <th>9</th>\n",
       "      <td>01/10/2016 12:17</td>\n",
       "      <td>01/10/2016 12:44</td>\n",
       "      <td>Business</td>\n",
       "      <td>Jamaica</td>\n",
       "      <td>New York</td>\n",
       "      <td>16.5</td>\n",
       "      <td>Customer Visit</td>\n",
       "    </tr>\n",
       "    <tr>\n",
       "      <th>10</th>\n",
       "      <td>01/10/2016 15:08</td>\n",
       "      <td>01/10/2016 15:51</td>\n",
       "      <td>Business</td>\n",
       "      <td>New York</td>\n",
       "      <td>Queens</td>\n",
       "      <td>10.8</td>\n",
       "      <td>Meeting</td>\n",
       "    </tr>\n",
       "    <tr>\n",
       "      <th>...</th>\n",
       "      <td>...</td>\n",
       "      <td>...</td>\n",
       "      <td>...</td>\n",
       "      <td>...</td>\n",
       "      <td>...</td>\n",
       "      <td>...</td>\n",
       "      <td>...</td>\n",
       "    </tr>\n",
       "    <tr>\n",
       "      <th>1143</th>\n",
       "      <td>12/29/2016 20:53</td>\n",
       "      <td>12/29/2016 21:42</td>\n",
       "      <td>Business</td>\n",
       "      <td>Kar?chi</td>\n",
       "      <td>Unknown Location</td>\n",
       "      <td>6.4</td>\n",
       "      <td>NaN</td>\n",
       "    </tr>\n",
       "    <tr>\n",
       "      <th>1144</th>\n",
       "      <td>12/29/2016 23:14</td>\n",
       "      <td>12/29/2016 23:47</td>\n",
       "      <td>Business</td>\n",
       "      <td>Unknown Location</td>\n",
       "      <td>Kar?chi</td>\n",
       "      <td>12.9</td>\n",
       "      <td>Meeting</td>\n",
       "    </tr>\n",
       "    <tr>\n",
       "      <th>1151</th>\n",
       "      <td>12/31/2016 13:24</td>\n",
       "      <td>12/31/2016 13:42</td>\n",
       "      <td>Business</td>\n",
       "      <td>Kar?chi</td>\n",
       "      <td>Unknown Location</td>\n",
       "      <td>3.9</td>\n",
       "      <td>Temporary Site</td>\n",
       "    </tr>\n",
       "    <tr>\n",
       "      <th>1153</th>\n",
       "      <td>12/31/2016 21:32</td>\n",
       "      <td>12/31/2016 21:50</td>\n",
       "      <td>Business</td>\n",
       "      <td>Katunayake</td>\n",
       "      <td>Gampaha</td>\n",
       "      <td>6.4</td>\n",
       "      <td>Temporary Site</td>\n",
       "    </tr>\n",
       "    <tr>\n",
       "      <th>1154</th>\n",
       "      <td>12/31/2016 22:08</td>\n",
       "      <td>12/31/2016 23:51</td>\n",
       "      <td>Business</td>\n",
       "      <td>Gampaha</td>\n",
       "      <td>Ilukwatta</td>\n",
       "      <td>48.2</td>\n",
       "      <td>Temporary Site</td>\n",
       "    </tr>\n",
       "  </tbody>\n",
       "</table>\n",
       "<p>867 rows × 7 columns</p>\n",
       "</div>"
      ],
      "text/plain": [
       "           START_DATE*         END_DATE* CATEGORY*            START*  \\\n",
       "4     01/06/2016 14:42  01/06/2016 15:49  Business       Fort Pierce   \n",
       "6     01/06/2016 17:30  01/06/2016 17:35  Business   West Palm Beach   \n",
       "8      01/10/2016 8:05   01/10/2016 8:25  Business              Cary   \n",
       "9     01/10/2016 12:17  01/10/2016 12:44  Business           Jamaica   \n",
       "10    01/10/2016 15:08  01/10/2016 15:51  Business          New York   \n",
       "...                ...               ...       ...               ...   \n",
       "1143  12/29/2016 20:53  12/29/2016 21:42  Business           Kar?chi   \n",
       "1144  12/29/2016 23:14  12/29/2016 23:47  Business  Unknown Location   \n",
       "1151  12/31/2016 13:24  12/31/2016 13:42  Business           Kar?chi   \n",
       "1153  12/31/2016 21:32  12/31/2016 21:50  Business        Katunayake   \n",
       "1154  12/31/2016 22:08  12/31/2016 23:51  Business           Gampaha   \n",
       "\n",
       "                 STOP*  MILES*        PURPOSE*  \n",
       "4      West Palm Beach    63.7  Customer Visit  \n",
       "6           Palm Beach     7.1         Meeting  \n",
       "8          Morrisville     8.3         Meeting  \n",
       "9             New York    16.5  Customer Visit  \n",
       "10              Queens    10.8         Meeting  \n",
       "...                ...     ...             ...  \n",
       "1143  Unknown Location     6.4             NaN  \n",
       "1144           Kar?chi    12.9         Meeting  \n",
       "1151  Unknown Location     3.9  Temporary Site  \n",
       "1153           Gampaha     6.4  Temporary Site  \n",
       "1154         Ilukwatta    48.2  Temporary Site  \n",
       "\n",
       "[867 rows x 7 columns]"
      ]
     },
     "execution_count": 74,
     "metadata": {},
     "output_type": "execute_result"
    }
   ],
   "source": [
    "original_df[original_df['START*']!=original_df['STOP*']]"
   ]
  },
  {
   "cell_type": "markdown",
   "metadata": {},
   "source": [
    "* <b> Counting occurrences of \"Unknown Location\" in the 'Start' column of the cleaned_df DataFrame"
   ]
  },
  {
   "cell_type": "code",
   "execution_count": 75,
   "metadata": {},
   "outputs": [
    {
     "data": {
      "text/plain": [
       "Start\n",
       "Unknown Location    148\n",
       "Name: count, dtype: int64"
      ]
     },
     "execution_count": 75,
     "metadata": {},
     "output_type": "execute_result"
    }
   ],
   "source": [
    "cleaned_df[cleaned_df[\"Start\"]==\"Unknown Location\"][\"Start\"].value_counts()"
   ]
  },
  {
   "cell_type": "markdown",
   "metadata": {},
   "source": [
    "* <b> Counting occurrences of \"Unknown Location\" in the 'Stop' column of the cleaned_df DataFrame</b>"
   ]
  },
  {
   "cell_type": "code",
   "execution_count": 76,
   "metadata": {},
   "outputs": [
    {
     "data": {
      "text/plain": [
       "Stop\n",
       "Unknown Location    149\n",
       "Name: count, dtype: int64"
      ]
     },
     "execution_count": 76,
     "metadata": {},
     "output_type": "execute_result"
    }
   ],
   "source": [
    "cleaned_df[cleaned_df[\"Stop\"]==\"Unknown Location\"][\"Stop\"].value_counts()"
   ]
  },
  {
   "cell_type": "markdown",
   "metadata": {},
   "source": [
    "* <b>Analyzing Highest distance covered by \"Start\" & \"Stop\" Locations</b> "
   ]
  },
  {
   "cell_type": "code",
   "execution_count": 77,
   "metadata": {},
   "outputs": [
    {
     "data": {
      "text/plain": [
       "Start        Stop            \n",
       "Morrisville  Cary                395.7\n",
       "Cary         Durham              390.0\n",
       "             Morrisville         380.0\n",
       "Raleigh      Cary                365.7\n",
       "Rawalpindi   Unknown Location    337.5\n",
       "Cary         Raleigh             336.5\n",
       "Durham       Cary                334.4\n",
       "Latta        Jacksonville        310.3\n",
       "Islamabad    Unknown Location    267.0\n",
       "Cary         Cary                255.9\n",
       "Name: Miles, dtype: float64"
      ]
     },
     "execution_count": 77,
     "metadata": {},
     "output_type": "execute_result"
    }
   ],
   "source": [
    "cleaned_df.groupby(['Start','Stop'])['Miles'].sum().sort_values(ascending=False)[1:11]"
   ]
  },
  {
   "cell_type": "markdown",
   "metadata": {},
   "source": [
    "Morrisville-Cary & Cary-Durham ,vice versa are the farthest distance ride."
   ]
  },
  {
   "cell_type": "markdown",
   "metadata": {},
   "source": [
    "* <b>Function to determine if a trip is a round trip based on the 'Start' and 'Stop' locations <br>\n",
    "* <b>If 'Start' and 'Stop' locations are the same, the trip is considered a round trip (returning 'YES'), otherwise 'NO'"
   ]
  },
  {
   "cell_type": "code",
   "execution_count": 78,
   "metadata": {},
   "outputs": [],
   "source": [
    "def is_roundtrip(cleaned_df):\n",
    "    if cleaned_df['Start'] == cleaned_df['Stop']:\n",
    "        return 'YES'\n",
    "    else:\n",
    "        return 'NO'\n",
    "    \n",
    "cleaned_df['Round_Trip'] = cleaned_df.apply(is_roundtrip, axis=1)"
   ]
  },
  {
   "cell_type": "code",
   "execution_count": 79,
   "metadata": {},
   "outputs": [
    {
     "data": {
      "text/plain": [
       "Round_Trip\n",
       "NO     867\n",
       "YES    288\n",
       "Name: count, dtype: int64"
      ]
     },
     "execution_count": 79,
     "metadata": {},
     "output_type": "execute_result"
    }
   ],
   "source": [
    "cleaned_df[\"Round_Trip\"].value_counts()"
   ]
  },
  {
   "cell_type": "code",
   "execution_count": 80,
   "metadata": {},
   "outputs": [
    {
     "data": {
      "text/html": [
       "<div>\n",
       "<style scoped>\n",
       "    .dataframe tbody tr th:only-of-type {\n",
       "        vertical-align: middle;\n",
       "    }\n",
       "\n",
       "    .dataframe tbody tr th {\n",
       "        vertical-align: top;\n",
       "    }\n",
       "\n",
       "    .dataframe thead th {\n",
       "        text-align: right;\n",
       "    }\n",
       "</style>\n",
       "<table border=\"1\" class=\"dataframe\">\n",
       "  <thead>\n",
       "    <tr style=\"text-align: right;\">\n",
       "      <th></th>\n",
       "      <th>Start_Date</th>\n",
       "      <th>End_Date</th>\n",
       "      <th>Category</th>\n",
       "      <th>Start</th>\n",
       "      <th>Stop</th>\n",
       "      <th>Miles</th>\n",
       "      <th>Purpose</th>\n",
       "      <th>Year</th>\n",
       "      <th>Month</th>\n",
       "      <th>Departure Day</th>\n",
       "      <th>Departure Time</th>\n",
       "      <th>Arrival Day</th>\n",
       "      <th>Arrival Time</th>\n",
       "      <th>Duration</th>\n",
       "      <th>Round_Trip</th>\n",
       "    </tr>\n",
       "  </thead>\n",
       "  <tbody>\n",
       "    <tr>\n",
       "      <th>0</th>\n",
       "      <td>2016-01-01 21:11:00</td>\n",
       "      <td>2016-01-01 21:17:00</td>\n",
       "      <td>Business</td>\n",
       "      <td>Fort Pierce</td>\n",
       "      <td>Fort Pierce</td>\n",
       "      <td>5.1</td>\n",
       "      <td>Meal/Entertain</td>\n",
       "      <td>2016</td>\n",
       "      <td>Jan</td>\n",
       "      <td>Fri</td>\n",
       "      <td>21:11</td>\n",
       "      <td>Fri</td>\n",
       "      <td>21:17</td>\n",
       "      <td>6.0</td>\n",
       "      <td>YES</td>\n",
       "    </tr>\n",
       "    <tr>\n",
       "      <th>1</th>\n",
       "      <td>2016-01-02 01:25:00</td>\n",
       "      <td>2016-01-02 01:37:00</td>\n",
       "      <td>Business</td>\n",
       "      <td>Fort Pierce</td>\n",
       "      <td>Fort Pierce</td>\n",
       "      <td>5.0</td>\n",
       "      <td>Not Available</td>\n",
       "      <td>2016</td>\n",
       "      <td>Jan</td>\n",
       "      <td>Sat</td>\n",
       "      <td>01:25</td>\n",
       "      <td>Sat</td>\n",
       "      <td>01:37</td>\n",
       "      <td>12.0</td>\n",
       "      <td>YES</td>\n",
       "    </tr>\n",
       "  </tbody>\n",
       "</table>\n",
       "</div>"
      ],
      "text/plain": [
       "           Start_Date            End_Date  Category        Start         Stop  \\\n",
       "0 2016-01-01 21:11:00 2016-01-01 21:17:00  Business  Fort Pierce  Fort Pierce   \n",
       "1 2016-01-02 01:25:00 2016-01-02 01:37:00  Business  Fort Pierce  Fort Pierce   \n",
       "\n",
       "   Miles         Purpose  Year Month Departure Day Departure Time Arrival Day  \\\n",
       "0    5.1  Meal/Entertain  2016   Jan           Fri          21:11         Fri   \n",
       "1    5.0   Not Available  2016   Jan           Sat          01:25         Sat   \n",
       "\n",
       "  Arrival Time  Duration Round_Trip  \n",
       "0        21:17       6.0        YES  \n",
       "1        01:37      12.0        YES  "
      ]
     },
     "execution_count": 80,
     "metadata": {},
     "output_type": "execute_result"
    }
   ],
   "source": [
    "cleaned_df.head(2)"
   ]
  },
  {
   "cell_type": "markdown",
   "metadata": {},
   "source": [
    "<h2 style = \"background-color: grey; color: white; text-shadow:1.5px 1.5px; border-radius: 20px; text-align: center; font-family:Times New Roman, Times, serif; padding: 20px; display: inline-block\" > Data Visualization</h2>"
   ]
  },
  {
   "cell_type": "code",
   "execution_count": 81,
   "metadata": {},
   "outputs": [
    {
     "data": {
      "text/plain": [
       "([0, 1], [Text(0, 0, 'Business'), Text(1, 0, 'Personal')])"
      ]
     },
     "execution_count": 81,
     "metadata": {},
     "output_type": "execute_result"
    },
    {
     "data": {
      "image/png": "[encoded data removed]",
      "text/plain": [
       "<Figure size 640x480 with 1 Axes>"
      ]
     },
     "metadata": {},
     "output_type": "display_data"
    }
   ],
   "source": [
    "x = cleaned_df[\"Category\"].value_counts()\n",
    "sns.barplot(x=x.index, y=x.values,palette=mck_color_alternative,width=0.4)\n",
    "\n",
    "plt.ylabel(\"Counts\")\n",
    "plt.xlabel(\"Category\")\n",
    "plt.xticks(rotation = 45)"
   ]
  },
  {
   "cell_type": "markdown",
   "metadata": {},
   "source": [
    "There are 2 ride-categories... Business: For work related & Personal: For personal travel"
   ]
  },
  {
   "cell_type": "markdown",
   "metadata": {},
   "source": [
    "* <b>Creating a count plot of trip purposes using Seaborn</b>"
   ]
  },
  {
   "cell_type": "code",
   "execution_count": 82,
   "metadata": {},
   "outputs": [
    {
     "data": {
      "text/plain": [
       "<Figure size 800x400 with 0 Axes>"
      ]
     },
     "execution_count": 82,
     "metadata": {},
     "output_type": "execute_result"
    },
    {
     "data": {
      "image/png": "[encoded data removed]",
      "text/plain": [
       "<Figure size 640x480 with 1 Axes>"
      ]
     },
     "metadata": {},
     "output_type": "display_data"
    },
    {
     "data": {
      "text/plain": [
       "<Figure size 800x400 with 0 Axes>"
      ]
     },
     "metadata": {},
     "output_type": "display_data"
    }
   ],
   "source": [
    "sns.countplot(y=cleaned_df[\"Purpose\"], palette=mck_color_alternative )\n",
    "plt.title(\"Trip of purpose\")\n",
    "plt.figure(figsize=(8,4))"
   ]
  },
  {
   "cell_type": "code",
   "execution_count": 96,
   "metadata": {},
   "outputs": [
    {
     "data": {
      "text/html": [
       "<div>\n",
       "<style scoped>\n",
       "    .dataframe tbody tr th:only-of-type {\n",
       "        vertical-align: middle;\n",
       "    }\n",
       "\n",
       "    .dataframe tbody tr th {\n",
       "        vertical-align: top;\n",
       "    }\n",
       "\n",
       "    .dataframe thead th {\n",
       "        text-align: right;\n",
       "    }\n",
       "</style>\n",
       "<table border=\"1\" class=\"dataframe\">\n",
       "  <thead>\n",
       "    <tr style=\"text-align: right;\">\n",
       "      <th></th>\n",
       "      <th>Start_Date</th>\n",
       "      <th>End_Date</th>\n",
       "      <th>Category</th>\n",
       "      <th>Start</th>\n",
       "      <th>Stop</th>\n",
       "      <th>Miles</th>\n",
       "      <th>Purpose</th>\n",
       "      <th>Year</th>\n",
       "      <th>Month</th>\n",
       "      <th>Departure Day</th>\n",
       "      <th>Departure Time</th>\n",
       "      <th>Arrival Day</th>\n",
       "      <th>Arrival Time</th>\n",
       "      <th>Duration</th>\n",
       "      <th>Round_Trip</th>\n",
       "    </tr>\n",
       "  </thead>\n",
       "  <tbody>\n",
       "    <tr>\n",
       "      <th>0</th>\n",
       "      <td>2016-01-01 21:11:00</td>\n",
       "      <td>2016-01-01 21:17:00</td>\n",
       "      <td>Business</td>\n",
       "      <td>Fort Pierce</td>\n",
       "      <td>Fort Pierce</td>\n",
       "      <td>5.1</td>\n",
       "      <td>Meal/Entertain</td>\n",
       "      <td>2016</td>\n",
       "      <td>Jan</td>\n",
       "      <td>Fri</td>\n",
       "      <td>21:11</td>\n",
       "      <td>Fri</td>\n",
       "      <td>21:17</td>\n",
       "      <td>6.0</td>\n",
       "      <td>YES</td>\n",
       "    </tr>\n",
       "    <tr>\n",
       "      <th>1</th>\n",
       "      <td>2016-01-02 01:25:00</td>\n",
       "      <td>2016-01-02 01:37:00</td>\n",
       "      <td>Business</td>\n",
       "      <td>Fort Pierce</td>\n",
       "      <td>Fort Pierce</td>\n",
       "      <td>5.0</td>\n",
       "      <td>Not Available</td>\n",
       "      <td>2016</td>\n",
       "      <td>Jan</td>\n",
       "      <td>Sat</td>\n",
       "      <td>01:25</td>\n",
       "      <td>Sat</td>\n",
       "      <td>01:37</td>\n",
       "      <td>12.0</td>\n",
       "      <td>YES</td>\n",
       "    </tr>\n",
       "    <tr>\n",
       "      <th>2</th>\n",
       "      <td>2016-01-02 20:25:00</td>\n",
       "      <td>2016-01-02 20:38:00</td>\n",
       "      <td>Business</td>\n",
       "      <td>Fort Pierce</td>\n",
       "      <td>Fort Pierce</td>\n",
       "      <td>4.8</td>\n",
       "      <td>Errand/Supplies</td>\n",
       "      <td>2016</td>\n",
       "      <td>Jan</td>\n",
       "      <td>Sat</td>\n",
       "      <td>20:25</td>\n",
       "      <td>Sat</td>\n",
       "      <td>20:38</td>\n",
       "      <td>13.0</td>\n",
       "      <td>YES</td>\n",
       "    </tr>\n",
       "  </tbody>\n",
       "</table>\n",
       "</div>"
      ],
      "text/plain": [
       "           Start_Date            End_Date  Category        Start         Stop  \\\n",
       "0 2016-01-01 21:11:00 2016-01-01 21:17:00  Business  Fort Pierce  Fort Pierce   \n",
       "1 2016-01-02 01:25:00 2016-01-02 01:37:00  Business  Fort Pierce  Fort Pierce   \n",
       "2 2016-01-02 20:25:00 2016-01-02 20:38:00  Business  Fort Pierce  Fort Pierce   \n",
       "\n",
       "   Miles          Purpose  Year Month Departure Day Departure Time  \\\n",
       "0    5.1   Meal/Entertain  2016   Jan           Fri          21:11   \n",
       "1    5.0    Not Available  2016   Jan           Sat          01:25   \n",
       "2    4.8  Errand/Supplies  2016   Jan           Sat          20:25   \n",
       "\n",
       "  Arrival Day Arrival Time  Duration Round_Trip  \n",
       "0         Fri        21:17       6.0        YES  \n",
       "1         Sat        01:37      12.0        YES  \n",
       "2         Sat        20:38      13.0        YES  "
      ]
     },
     "execution_count": 96,
     "metadata": {},
     "output_type": "execute_result"
    }
   ],
   "source": [
    "cleaned_df.head(3)"
   ]
  },
  {
   "cell_type": "markdown",
   "metadata": {},
   "source": [
    "* <b> Analyzing how much trips done in a week"
   ]
  },
  {
   "cell_type": "code",
   "execution_count": 84,
   "metadata": {},
   "outputs": [
    {
     "data": {
      "image/png": "[encoded data removed]",
      "text/plain": [
       "<Figure size 640x480 with 1 Axes>"
      ]
     },
     "metadata": {},
     "output_type": "display_data"
    },
    {
     "data": {
      "text/plain": [
       "<Figure size 800x400 with 0 Axes>"
      ]
     },
     "metadata": {},
     "output_type": "display_data"
    }
   ],
   "source": [
    "sns.countplot(x='Departure Day', data=cleaned_df,palette=mck_color_alternative,width=0.4, order=cleaned_df['Departure Day'].value_counts().index)\n",
    "\n",
    "plt.title('Number of Trips per Day of the Week')\n",
    "plt.xlabel('Day of the Week')\n",
    "plt.ylabel('Number of Trips')\n",
    "plt.figure(figsize=(8, 4))\n",
    "plt.show()"
   ]
  },
  {
   "cell_type": "code",
   "execution_count": 86,
   "metadata": {},
   "outputs": [
    {
     "data": {
      "text/plain": [
       "<Axes: xlabel='Departure Day', ylabel='count'>"
      ]
     },
     "execution_count": 86,
     "metadata": {},
     "output_type": "execute_result"
    },
    {
     "data": {
      "image/png": "[encoded data removed]",
      "text/plain": [
       "<Figure size 640x480 with 1 Axes>"
      ]
     },
     "metadata": {},
     "output_type": "display_data"
    }
   ],
   "source": [
    "sns.countplot(x='Departure Day',data=cleaned_df,palette=mck_color2_alternative ,order=pd.value_counts(cleaned_df['Departure Day']).index,hue='Category')"
   ]
  },
  {
   "cell_type": "markdown",
   "metadata": {},
   "source": [
    "FRIDAY was the day at which uber rides were mostly used for Business"
   ]
  },
  {
   "cell_type": "markdown",
   "metadata": {},
   "source": [
    "* <b> You can analyze the number of trips per Month"
   ]
  },
  {
   "cell_type": "code",
   "execution_count": 87,
   "metadata": {},
   "outputs": [
    {
     "data": {
      "image/png": "[encoded data removed]",
      "text/plain": [
       "<Figure size 640x480 with 1 Axes>"
      ]
     },
     "metadata": {},
     "output_type": "display_data"
    },
    {
     "data": {
      "text/plain": [
       "<Figure size 800x400 with 0 Axes>"
      ]
     },
     "metadata": {},
     "output_type": "display_data"
    }
   ],
   "source": [
    "sns.countplot(x='Month', data=cleaned_df,palette=mck_color_alternative,width=0.4, order=['Jan', 'Feb', 'Mar', 'Apr', 'May', 'Jun', 'Jul', 'Aug', 'Sep', 'Oct', 'Nov', 'Dec'])\n",
    "\n",
    "plt.title('Number of Trips per Month')\n",
    "plt.xlabel('Month')\n",
    "plt.ylabel('Number of Trips')\n",
    "plt.figure(figsize=(8, 4))\n",
    "plt.show()"
   ]
  },
  {
   "cell_type": "code",
   "execution_count": 88,
   "metadata": {},
   "outputs": [
    {
     "data": {
      "text/plain": [
       "<Axes: xlabel='Month', ylabel='count'>"
      ]
     },
     "execution_count": 88,
     "metadata": {},
     "output_type": "execute_result"
    },
    {
     "data": {
      "image/png": "[encoded data removed]",
      "text/plain": [
       "<Figure size 640x480 with 1 Axes>"
      ]
     },
     "metadata": {},
     "output_type": "display_data"
    }
   ],
   "source": [
    "sns.countplot(x='Month',data=cleaned_df,palette=mck_color2_alternative,order=pd.value_counts(cleaned_df['Month']).index,hue='Category')"
   ]
  },
  {
   "cell_type": "markdown",
   "metadata": {},
   "source": [
    " Most number of rides were in month of December (all of them were Business trips)<br>\n",
    " Top 5 months having most trips were: December,August,November,February & March.<br>\n",
    " Uber Ride was used at Feb,Mar,Jul,Jun & Apr for personal trips."
   ]
  },
  {
   "cell_type": "markdown",
   "metadata": {},
   "source": [
    "* <b> Create a DataFrame for start and stop locations"
   ]
  },
  {
   "cell_type": "code",
   "execution_count": 89,
   "metadata": {},
   "outputs": [
    {
     "data": {
      "image/png": "[encoded data removed]",
      "text/plain": [
       "<Figure size 800x400 with 1 Axes>"
      ]
     },
     "metadata": {},
     "output_type": "display_data"
    }
   ],
   "source": [
    "locations_df = pd.concat([cleaned_df['Start'], cleaned_df['Stop']])\n",
    "\n",
    "# Count the occurrences of each location\n",
    "locations_counts = locations_df.value_counts()\n",
    "\n",
    "# Select the top 10 most frequent locations for better visualization\n",
    "top_locations = locations_counts.head(10)\n",
    "\n",
    "# Plotting a horizontal bar chart\n",
    "plt.figure(figsize=(8, 4))\n",
    "sns.barplot(x=top_locations.values, y=top_locations.index, palette=\"viridis\")\n",
    "\n",
    "# Adding labels and title\n",
    "plt.xlabel('Number of Trips')\n",
    "plt.ylabel('Location')\n",
    "plt.title('Top 10 Start and Stop Locations')\n",
    "\n",
    "plt.show()"
   ]
  },
  {
   "cell_type": "markdown",
   "metadata": {},
   "source": [
    "* <b> The starting points of trips. Where Do People Start Boarding Their Trip From Most?"
   ]
  },
  {
   "cell_type": "code",
   "execution_count": 90,
   "metadata": {},
   "outputs": [
    {
     "data": {
      "text/plain": [
       "<Axes: ylabel='Start'>"
      ]
     },
     "execution_count": 90,
     "metadata": {},
     "output_type": "execute_result"
    },
    {
     "data": {
      "image/png": "[encoded data removed]",
      "text/plain": [
       "<Figure size 800x400 with 1 Axes>"
      ]
     },
     "metadata": {},
     "output_type": "display_data"
    }
   ],
   "source": [
    "start_trip=cleaned_df['Start'].value_counts().head(15)\n",
    "start_trip.plot(kind='barh',figsize=(8,4),color=mck_color_alternative)"
   ]
  },
  {
   "cell_type": "markdown",
   "metadata": {},
   "source": [
    "* <b>Similarly for \"Stop\"</b>"
   ]
  },
  {
   "cell_type": "code",
   "execution_count": 91,
   "metadata": {},
   "outputs": [
    {
     "data": {
      "text/plain": [
       "<Axes: ylabel='Stop'>"
      ]
     },
     "execution_count": 91,
     "metadata": {},
     "output_type": "execute_result"
    },
    {
     "data": {
      "image/png": "[encoded data removed]",
      "text/plain": [
       "<Figure size 800x400 with 1 Axes>"
      ]
     },
     "metadata": {},
     "output_type": "display_data"
    }
   ],
   "source": [
    "start_trip=cleaned_df['Stop'].value_counts().head(15)\n",
    "start_trip.plot(kind='barh',figsize=(8,4),color=mck_color_alternative)"
   ]
  },
  {
   "cell_type": "markdown",
   "metadata": {},
   "source": [
    "<b>Cary</b> is the most popular Stop place for this user.<br>\n",
    "Maybe his home is in Cary (as mostly start & stop are from here)"
   ]
  },
  {
   "cell_type": "markdown",
   "metadata": {},
   "source": [
    "* <b>If 'Start' and 'Stop' locations are the same, the trip is considered a round trip (returning 'YES'), otherwise 'NO'....(through visulization)"
   ]
  },
  {
   "cell_type": "code",
   "execution_count": 95,
   "metadata": {},
   "outputs": [
    {
     "data": {
      "text/plain": [
       "([0, 1], [Text(0, 0, 'NO'), Text(1, 0, 'YES')])"
      ]
     },
     "execution_count": 95,
     "metadata": {},
     "output_type": "execute_result"
    },
    {
     "data": {
      "image/png": "[encoded data removed]",
      "text/plain": [
       "<Figure size 640x480 with 1 Axes>"
      ]
     },
     "metadata": {},
     "output_type": "display_data"
    }
   ],
   "source": [
    "sns.countplot(x='Round_Trip',data=cleaned_df,width=0.4, palette=mck_color2_alternative, order=cleaned_df['Round_Trip'].value_counts().index)\n",
    "plt.xticks(rotation = 45)"
   ]
  },
  {
   "cell_type": "markdown",
   "metadata": {},
   "source": [
    "User mostly take single-trip Uber rides.<br>\n",
    "Around 75% trip is single-trip and 25% are ROund-Trip"
   ]
  },
  {
   "cell_type": "code",
   "execution_count": 93,
   "metadata": {},
   "outputs": [
    {
     "data": {
      "image/png": "[encoded data removed]",
      "text/plain": [
       "<Figure size 640x480 with 1 Axes>"
      ]
     },
     "metadata": {},
     "output_type": "display_data"
    },
    {
     "data": {
      "text/plain": [
       "<Figure size 800x400 with 0 Axes>"
      ]
     },
     "metadata": {},
     "output_type": "display_data"
    }
   ],
   "source": [
    "# Distribution of trip durations\n",
    "cleaned_df['Duration'].hist()\n",
    "\n",
    "plt.title('Distribution of Trip Durations')\n",
    "plt.figure(figsize=(8, 4))\n",
    "plt.show()\n"
   ]
  },
  {
   "cell_type": "markdown",
   "metadata": {},
   "source": [
    " * <b>Boxplot to visualize the distribution of trip distances ('Miles') across different ride categories ('Category')"
   ]
  },
  {
   "cell_type": "code",
   "execution_count": 94,
   "metadata": {},
   "outputs": [
    {
     "data": {
      "image/png": "[encoded data removed]",
      "text/plain": [
       "<Figure size 640x480 with 1 Axes>"
      ]
     },
     "metadata": {},
     "output_type": "display_data"
    },
    {
     "data": {
      "text/plain": [
       "<Figure size 800x400 with 0 Axes>"
      ]
     },
     "metadata": {},
     "output_type": "display_data"
    }
   ],
   "source": [
    "sns.boxplot(x='Category', y='Miles', data=cleaned_df)\n",
    "\n",
    "plt.title('Miles per Category')\n",
    "plt.xlabel('Category')\n",
    "plt.ylabel('Miles')\n",
    "plt.figure(figsize=(8, 4))\n",
    "plt.show()"
   ]
  },
  {
   "cell_type": "markdown",
   "metadata": {},
   "source": [
    "# Conclusion"
   ]
  },
  {
   "cell_type": "markdown",
   "metadata": {},
   "source": [
    "* The dataset provides valuable insights into Uber ride patterns and user behavior.<br>\n",
    "* Users predominantly opt for single-trip rides, with most rides for business purposes.<br>\n",
    "* Specific locations, days, and months were highlighted for increased ride frequency.<br>\n",
    "* The dataset has been cleaned and prepared for further in-depth analysis."
   ]
  }
 ],
 "metadata": {
  "kernelspec": {
   "display_name": "Python 3",
   "language": "python",
   "name": "python3"
  },
  "language_info": {
   "codemirror_mode": {
    "name": "ipython",
    "version": 3
   },
   "file_extension": ".py",
   "mimetype": "text/x-python",
   "name": "python",
   "nbconvert_exporter": "python",
   "pygments_lexer": "ipython3",
   "version": "3.12.0"
  }
 },
 "nbformat": 4,
 "nbformat_minor": 2
}
